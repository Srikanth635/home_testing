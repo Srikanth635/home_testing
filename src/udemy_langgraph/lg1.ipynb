{
 "cells": [
  {
   "cell_type": "code",
   "id": "initial_id",
   "metadata": {
    "collapsed": true,
    "ExecuteTime": {
     "end_time": "2025-03-13T10:16:57.237621Z",
     "start_time": "2025-03-13T10:16:56.775685Z"
    }
   },
   "source": [
    "from langgraph.graph import StateGraph\n",
    "from typing import Annotated\n",
    "from typing_extensions import TypedDict\n",
    "from langgraph.graph.message import add_messages\n",
    "from langchain_openai import ChatOpenAI"
   ],
   "outputs": [],
   "execution_count": 1
  },
  {
   "metadata": {
    "ExecuteTime": {
     "end_time": "2025-03-13T10:17:05.983166Z",
     "start_time": "2025-03-13T10:17:05.976973Z"
    }
   },
   "cell_type": "code",
   "source": [
    "from dotenv import load_dotenv, find_dotenv\n",
    "load_dotenv(find_dotenv(),override=True)"
   ],
   "id": "2ce95e8511a98beb",
   "outputs": [
    {
     "data": {
      "text/plain": [
       "True"
      ]
     },
     "execution_count": 2,
     "metadata": {},
     "output_type": "execute_result"
    }
   ],
   "execution_count": 2
  },
  {
   "metadata": {},
   "cell_type": "code",
   "outputs": [],
   "execution_count": null,
   "source": "",
   "id": "e288db10d1646ea4"
  },
  {
   "metadata": {},
   "cell_type": "code",
   "outputs": [],
   "execution_count": null,
   "source": "",
   "id": "3fa1e4ae7521f0e0"
  },
  {
   "metadata": {},
   "cell_type": "code",
   "outputs": [],
   "execution_count": null,
   "source": "",
   "id": "fc974e18ffcfdfdb"
  },
  {
   "metadata": {},
   "cell_type": "code",
   "outputs": [],
   "execution_count": null,
   "source": "",
   "id": "73afdbbdc28795ed"
  },
  {
   "metadata": {
    "ExecuteTime": {
     "end_time": "2025-03-13T10:17:07.456784Z",
     "start_time": "2025-03-13T10:17:07.432451Z"
    }
   },
   "cell_type": "code",
   "source": [
    "class State(TypedDict):\n",
    "    messages: Annotated[list, add_messages]\n",
    "\n",
    "graph_builder = StateGraph(State)\n",
    "\n",
    "llm = ChatOpenAI(model=\"gpt-4o-mini\", temperature=0.5)\n",
    "\n",
    "def chatbot(state : State):\n",
    "    return {\"messages\" : [llm.invoke(state[\"messages\"])]}\n",
    "\n",
    "graph_builder.add_node(\"chatbot\", chatbot)\n",
    "graph_builder.set_entry_point(\"chatbot\")\n",
    "graph_builder.set_finish_point(\"chatbot\")\n",
    "\n",
    "graph = graph_builder.compile()"
   ],
   "id": "8030befbf8762b60",
   "outputs": [],
   "execution_count": 3
  },
  {
   "metadata": {
    "ExecuteTime": {
     "end_time": "2025-03-13T10:17:08.275395Z",
     "start_time": "2025-03-13T10:17:08.151677Z"
    }
   },
   "cell_type": "code",
   "source": [
    "from IPython.display import display, Image\n",
    "display(Image(graph.get_graph().draw_mermaid_png()))"
   ],
   "id": "af77c79ee1184302",
   "outputs": [
    {
     "data": {
      "image/png": "[encoded data removed]",
      "text/plain": [
       "<IPython.core.display.Image object>"
      ]
     },
     "metadata": {},
     "output_type": "display_data"
    }
   ],
   "execution_count": 4
  },
  {
   "metadata": {},
   "cell_type": "markdown",
   "source": [
    "To print graph in Ascii install, pip install grandalf\n",
    "\n",
    "> print(graph.get_graph().draw_ascii())"
   ],
   "id": "ad6e3eb453cb9e1f"
  },
  {
   "metadata": {
    "ExecuteTime": {
     "end_time": "2025-03-13T10:17:11.236554Z",
     "start_time": "2025-03-13T10:17:09.855428Z"
    }
   },
   "cell_type": "code",
   "source": [
    "while True:\n",
    "    user_input = input('User: ')\n",
    "    if user_input.lower() in [\"q\", \"quit\", \"exit\", \"bye\"]:\n",
    "        print(\"Goodbye\")\n",
    "        break\n",
    "\n",
    "    for event in graph.stream({'messages' : ('user', user_input)}):\n",
    "        for value in event.values():\n",
    "            print(f\"assistant: {value['messages'][-1].content}\")\n",
    "            print('-' *20)"
   ],
   "id": "f15dd1f20e520dc2",
   "outputs": [
    {
     "ename": "KeyboardInterrupt",
     "evalue": "Interrupted by user",
     "output_type": "error",
     "traceback": [
      "\u001B[31m---------------------------------------------------------------------------\u001B[39m",
      "\u001B[31mKeyboardInterrupt\u001B[39m                         Traceback (most recent call last)",
      "\u001B[36mCell\u001B[39m\u001B[36m \u001B[39m\u001B[32mIn[5]\u001B[39m\u001B[32m, line 2\u001B[39m\n\u001B[32m      1\u001B[39m \u001B[38;5;28;01mwhile\u001B[39;00m \u001B[38;5;28;01mTrue\u001B[39;00m:\n\u001B[32m----> \u001B[39m\u001B[32m2\u001B[39m     user_input = \u001B[38;5;28;43minput\u001B[39;49m\u001B[43m(\u001B[49m\u001B[33;43m'\u001B[39;49m\u001B[33;43mUser: \u001B[39;49m\u001B[33;43m'\u001B[39;49m\u001B[43m)\u001B[49m\n\u001B[32m      3\u001B[39m     \u001B[38;5;28;01mif\u001B[39;00m user_input.lower() \u001B[38;5;129;01min\u001B[39;00m [\u001B[33m\"\u001B[39m\u001B[33mq\u001B[39m\u001B[33m\"\u001B[39m, \u001B[33m\"\u001B[39m\u001B[33mquit\u001B[39m\u001B[33m\"\u001B[39m, \u001B[33m\"\u001B[39m\u001B[33mexit\u001B[39m\u001B[33m\"\u001B[39m, \u001B[33m\"\u001B[39m\u001B[33mbye\u001B[39m\u001B[33m\"\u001B[39m]:\n\u001B[32m      4\u001B[39m         \u001B[38;5;28mprint\u001B[39m(\u001B[33m\"\u001B[39m\u001B[33mGoodbye\u001B[39m\u001B[33m\"\u001B[39m)\n",
      "\u001B[36mFile \u001B[39m\u001B[32m~/envs/hometesting/lib/python3.11/site-packages/ipykernel/kernelbase.py:1282\u001B[39m, in \u001B[36mKernel.raw_input\u001B[39m\u001B[34m(self, prompt)\u001B[39m\n\u001B[32m   1280\u001B[39m     msg = \u001B[33m\"\u001B[39m\u001B[33mraw_input was called, but this frontend does not support input requests.\u001B[39m\u001B[33m\"\u001B[39m\n\u001B[32m   1281\u001B[39m     \u001B[38;5;28;01mraise\u001B[39;00m StdinNotImplementedError(msg)\n\u001B[32m-> \u001B[39m\u001B[32m1282\u001B[39m \u001B[38;5;28;01mreturn\u001B[39;00m \u001B[38;5;28;43mself\u001B[39;49m\u001B[43m.\u001B[49m\u001B[43m_input_request\u001B[49m\u001B[43m(\u001B[49m\n\u001B[32m   1283\u001B[39m \u001B[43m    \u001B[49m\u001B[38;5;28;43mstr\u001B[39;49m\u001B[43m(\u001B[49m\u001B[43mprompt\u001B[49m\u001B[43m)\u001B[49m\u001B[43m,\u001B[49m\n\u001B[32m   1284\u001B[39m \u001B[43m    \u001B[49m\u001B[38;5;28;43mself\u001B[39;49m\u001B[43m.\u001B[49m\u001B[43m_parent_ident\u001B[49m\u001B[43m[\u001B[49m\u001B[33;43m\"\u001B[39;49m\u001B[33;43mshell\u001B[39;49m\u001B[33;43m\"\u001B[39;49m\u001B[43m]\u001B[49m\u001B[43m,\u001B[49m\n\u001B[32m   1285\u001B[39m \u001B[43m    \u001B[49m\u001B[38;5;28;43mself\u001B[39;49m\u001B[43m.\u001B[49m\u001B[43mget_parent\u001B[49m\u001B[43m(\u001B[49m\u001B[33;43m\"\u001B[39;49m\u001B[33;43mshell\u001B[39;49m\u001B[33;43m\"\u001B[39;49m\u001B[43m)\u001B[49m\u001B[43m,\u001B[49m\n\u001B[32m   1286\u001B[39m \u001B[43m    \u001B[49m\u001B[43mpassword\u001B[49m\u001B[43m=\u001B[49m\u001B[38;5;28;43;01mFalse\u001B[39;49;00m\u001B[43m,\u001B[49m\n\u001B[32m   1287\u001B[39m \u001B[43m\u001B[49m\u001B[43m)\u001B[49m\n",
      "\u001B[36mFile \u001B[39m\u001B[32m~/envs/hometesting/lib/python3.11/site-packages/ipykernel/kernelbase.py:1325\u001B[39m, in \u001B[36mKernel._input_request\u001B[39m\u001B[34m(self, prompt, ident, parent, password)\u001B[39m\n\u001B[32m   1322\u001B[39m \u001B[38;5;28;01mexcept\u001B[39;00m \u001B[38;5;167;01mKeyboardInterrupt\u001B[39;00m:\n\u001B[32m   1323\u001B[39m     \u001B[38;5;66;03m# re-raise KeyboardInterrupt, to truncate traceback\u001B[39;00m\n\u001B[32m   1324\u001B[39m     msg = \u001B[33m\"\u001B[39m\u001B[33mInterrupted by user\u001B[39m\u001B[33m\"\u001B[39m\n\u001B[32m-> \u001B[39m\u001B[32m1325\u001B[39m     \u001B[38;5;28;01mraise\u001B[39;00m \u001B[38;5;167;01mKeyboardInterrupt\u001B[39;00m(msg) \u001B[38;5;28;01mfrom\u001B[39;00m\u001B[38;5;250m \u001B[39m\u001B[38;5;28;01mNone\u001B[39;00m\n\u001B[32m   1326\u001B[39m \u001B[38;5;28;01mexcept\u001B[39;00m \u001B[38;5;167;01mException\u001B[39;00m:\n\u001B[32m   1327\u001B[39m     \u001B[38;5;28mself\u001B[39m.log.warning(\u001B[33m\"\u001B[39m\u001B[33mInvalid Message:\u001B[39m\u001B[33m\"\u001B[39m, exc_info=\u001B[38;5;28;01mTrue\u001B[39;00m)\n",
      "\u001B[31mKeyboardInterrupt\u001B[39m: Interrupted by user"
     ]
    }
   ],
   "execution_count": 5
  },
  {
   "metadata": {
    "ExecuteTime": {
     "end_time": "2025-03-03T18:58:39.327357Z",
     "start_time": "2025-03-03T18:58:36.839158Z"
    }
   },
   "cell_type": "code",
   "source": [
    "from tavily import TavilyClient\n",
    "import os\n",
    "\n",
    "client = TavilyClient(api_key=os.environ['TAVILY_API_KEY'])\n",
    "\n",
    "response = client.search(query=\"who won 2024 ipl\")\n",
    "response"
   ],
   "id": "3102f92170b61ce3",
   "outputs": [
    {
     "data": {
      "text/plain": [
       "{'query': 'who won 2024 ipl',\n",
       " 'follow_up_questions': None,\n",
       " 'answer': None,\n",
       " 'images': [],\n",
       " 'results': [{'title': 'Who won IPL 2024? What happened in the final between KKR and SRH?',\n",
       "   'url': 'https://www.sportingnews.com/in/cricket/news/who-won-ipl-final-2024-kkr-srh/2d2abac1a403fa86e6c5afbd',\n",
       "   'content': 'Who won IPL 2024? What happened in the final between KKR and SRH? | Sporting News India IPL IPL EXPLORE IPL NBA TEAMS EXPLORE FOOTBALL Cricket IPL NBA Football IPL Who won IPL 2024? Kolkata Knight Riders (KKR) beat Sunrisers Hyderabad (SRH) by eight wickets in the IPL 2024 Final at the MA Chidambaram Stadium in Chennai to lift a third IPL trophy on Sunday. With this result, KKR are now the third most successful team in the history of the league after Mumbai Indians and Chennai Super Kings who have won it five times each. MORE: Relive all the drama of the 2024 IPL Final here — IndianPremierLeague (@IPL) May 26, 2024 IPL Final 2024 result, score Sporting News',\n",
       "   'score': 0.9322132,\n",
       "   'raw_content': None},\n",
       "  {'title': 'TATA IPL 2024 Final: KKR vs SRH - Cricket World',\n",
       "   'url': 'https://www.cricketworld.com/tata-ipl-2024-final-kkr-vs-srh-kolkata-emerge-as-champions-for-third-time-after-a-decade/94606.htm',\n",
       "   'content': 'Kolkata Knight Riders won the Indian Premier League (IPL) 2024 as they defeated Sunrisers Hyderabad by eight wickets in the summit clash at the MA Chidambaram Stadium in Chennai on Sunday.',\n",
       "   'score': 0.9240941,\n",
       "   'raw_content': None},\n",
       "  {'title': '2024 Indian Premier League final - Wikipedia',\n",
       "   'url': 'https://en.wikipedia.org/wiki/2024_Indian_Premier_League_final',\n",
       "   'content': 'The Kolkata Knight Riders easily chased the target in 10.3 overs and won the match by eight wickets, thus winning their third IPL title.[4] KKR player Mitchell Starc was named as the player of the match for taking 2 wickets and 2 catches.[5] Sunil Narine (KKR) was named as the player of the season for scoring 488 runs and taking 17 wickets throughout the tournament.[6] ^ a b c \"IPL 2024 final result: Kolkata Knight Riders beat Sunrisers Hyderabad to win title\".',\n",
       "   'score': 0.91795975,\n",
       "   'raw_content': None},\n",
       "  {'title': 'IPL 2024 final result: Kolkata Knight Riders beat Sunrisers ... - BBC',\n",
       "   'url': 'https://www.bbc.com/sport/cricket/articles/cd114e2l99qo',\n",
       "   'content': 'IPL 2024 final result: Kolkata Knight Riders beat Sunrisers Hyderabad to win title - BBC Sport Kolkata Knight Riders won the Indian Premier League after a thumping eight-wicket win over Sunrisers Hyderabad in the final. IPL final: KKR thrash Sunrisers to win third title - as it happened When this year\\'s IPL began a little over two months ago, few were predicting that KKR and Sunrisers would be contesting the final. Sunrisers had appointed Cummins captain, his first time skippering a side in T20 cricket, while KKR\\'s decision to pay a record 24.75 crore Indian rupees (£2.3m) for Starc was also being questioned. Player of the match, Kolkata Knight Riders’ Mitchell Starc: \"It is a great night for KKR.',\n",
       "   'score': 0.91175514,\n",
       "   'raw_content': None},\n",
       "  {'title': 'IPL 2024 Final: KKR crowned champions for 3rd time as SRH implode in ...',\n",
       "   'url': 'https://www.indiatoday.in/sports/cricket/story/ipl-2024-final-kkr-vs-srh-kolkata-3rd-crown-shreyas-iyer-pat-cummins-chennai-2544139-2024-05-26',\n",
       "   'content': 'IPL 2024 Final: KKR crowned champions for 3rd time as SRH implode in one-sided title match - India Today NewsSportsCricketIPLRuthless KKR win 3rd IPL title after SRH implode in one-sided final IPL Final: KKR crowned champions for 3rd time as SRH implode in one-sided title match IPL 2024 Final, KKR vs SRH: The Knight Riders won their third title after hammering SunRisers in the most one-sided final in the history of the tournament. Vaibhav Arora struck in the powerplay, getting the most important wicket of Travis Head, who had hit a match-winning hundred in the last major tournament final he played in India -- the ODI World Cup. Harshit Rana, one of the finds of the IPL, picked up 2 wickets and gave away just 24 runs in four overs.',\n",
       "   'score': 0.87348515,\n",
       "   'raw_content': None}],\n",
       " 'response_time': 2.03}"
      ]
     },
     "execution_count": 8,
     "metadata": {},
     "output_type": "execute_result"
    }
   ],
   "execution_count": 8
  },
  {
   "metadata": {
    "ExecuteTime": {
     "end_time": "2025-03-03T18:58:59.997044Z",
     "start_time": "2025-03-03T18:58:59.992657Z"
    }
   },
   "cell_type": "code",
   "source": [
    "for result in response['results']:\n",
    "    print(f'Title: {result[\"title\"]}, URL: {result[\"url\"]}')"
   ],
   "id": "7695ddc6398f5d2",
   "outputs": [
    {
     "name": "stdout",
     "output_type": "stream",
     "text": [
      "Title: Who won IPL 2024? What happened in the final between KKR and SRH?, URL: https://www.sportingnews.com/in/cricket/news/who-won-ipl-final-2024-kkr-srh/2d2abac1a403fa86e6c5afbd\n",
      "Title: TATA IPL 2024 Final: KKR vs SRH - Cricket World, URL: https://www.cricketworld.com/tata-ipl-2024-final-kkr-vs-srh-kolkata-emerge-as-champions-for-third-time-after-a-decade/94606.htm\n",
      "Title: 2024 Indian Premier League final - Wikipedia, URL: https://en.wikipedia.org/wiki/2024_Indian_Premier_League_final\n",
      "Title: IPL 2024 final result: Kolkata Knight Riders beat Sunrisers ... - BBC, URL: https://www.bbc.com/sport/cricket/articles/cd114e2l99qo\n",
      "Title: IPL 2024 Final: KKR crowned champions for 3rd time as SRH implode in ..., URL: https://www.indiatoday.in/sports/cricket/story/ipl-2024-final-kkr-vs-srh-kolkata-3rd-crown-shreyas-iyer-pat-cummins-chennai-2544139-2024-05-26\n"
     ]
    }
   ],
   "execution_count": 9
  },
  {
   "metadata": {
    "ExecuteTime": {
     "end_time": "2025-03-03T18:59:08.679994Z",
     "start_time": "2025-03-03T18:59:04.389580Z"
    }
   },
   "cell_type": "code",
   "source": [
    "response = client.search(\n",
    "    query=\"who won 2024 ipl\",\n",
    "    search_depth='advanced',\n",
    "    max_results=7,\n",
    "    include_images=True,\n",
    "    include_answer=True,\n",
    "    include_raw_content=False\n",
    ")\n",
    "response"
   ],
   "id": "61fc1bffa5b46089",
   "outputs": [
    {
     "data": {
      "text/plain": [
       "{'query': 'who won 2024 ipl',\n",
       " 'follow_up_questions': None,\n",
       " 'answer': 'The Kolkata Knight Riders won the 2024 IPL by defeating the Sunrisers Hyderabad in the final match.',\n",
       " 'images': ['https://tse-mm.bing.com/th?q=2024+ipl+winner+final+time+android',\n",
       "  'https://tse-mm.bing.com/th?q=2024+ipl+winner+final+time+show',\n",
       "  'https://statico.sportskeeda.com/editor/2025/02/ec101-17407642472000-1920.jpg',\n",
       "  'https://tse1.mm.bing.net/th?q=2024+Ipl+Winner&w=1280&h=720&c=5&rs=1&p=0',\n",
       "  'http://cricpoint.in/wp-content/uploads/2023/08/IPL-2024-Auction.webp'],\n",
       " 'results': [{'url': 'https://en.wikipedia.org/wiki/2024_Indian_Premier_League_final',\n",
       "   'title': '2024 Indian Premier League final - Wikipedia',\n",
       "   'content': 'The Kolkata Knight Riders easily chased the target in 10.3 overs and won the match by eight wickets, thus winning their third IPL title.[4] KKR player Mitchell Starc was named as the player of the match for taking 2 wickets and 2 catches.[5] Sunil Narine (KKR) was named as the player of the season for scoring 488 runs and taking 17 wickets throughout the tournament.[6] ^ a b c \"IPL 2024 final result: Kolkata Knight Riders beat Sunrisers Hyderabad to win title\".',\n",
       "   'score': 0.91795975,\n",
       "   'raw_content': None},\n",
       "  {'url': 'https://www.bbc.com/sport/cricket/articles/cd114e2l99qo',\n",
       "   'title': \"'We've played like invincibles' - Kolkata win IPL - BBC\",\n",
       "   'content': 'IPL 2024 final result: Kolkata Knight Riders beat Sunrisers Hyderabad to win title - BBC Sport Kolkata Knight Riders won the Indian Premier League after a thumping eight-wicket win over Sunrisers Hyderabad in the final. IPL final: KKR thrash Sunrisers to win third title - as it happened When this year\\'s IPL began a little over two months ago, few were predicting that KKR and Sunrisers would be contesting the final. Sunrisers had appointed Cummins captain, his first time skippering a side in T20 cricket, while KKR\\'s decision to pay a record 24.75 crore Indian rupees (£2.3m) for Starc was also being questioned. Player of the match, Kolkata Knight Riders’ Mitchell Starc: \"It is a great night for KKR.',\n",
       "   'score': 0.9094659,\n",
       "   'raw_content': None},\n",
       "  {'url': 'https://www.careerpower.in/ipl-winners-list.html',\n",
       "   'title': 'IPL Winners List from 2008 to 2024, KKR Won IPL Final',\n",
       "   'content': 'The 17th season of IPL ended on 26th May 2024 when the final match was played between KKR and SRH and Kolkata Knight Riders (KKR) won the final match by 8 wickets. Till now, 16 IPL seasons are concluded and Chennai Super Kings\\xa0(CSK) team is the most successful IPL team, having won the tournament five times along with Mumbai Indians (MI). Mumbai Indians (MI) and Chennai Super Kings\\xa0(CSK) both are the most successful IPL teams, having won the IPL tournament five times. Chennai Super Kings (CSK) won the IPL 2023 final match by defeating Gujrat (GT) Titans by 5 wickets. The Final of IPL 2021 was played between Chennai Super Kings (CSK) and Kolkata Knight Riders (KKR) and CSK won the match by 27 runs.',\n",
       "   'score': 0.9016528,\n",
       "   'raw_content': None},\n",
       "  {'url': 'https://currentaffairs.adda247.com/ipl-winners-list/',\n",
       "   'title': 'IPL Winners List from 2008 to 2025: Full List of Champions & Key Stats',\n",
       "   'content': 'In the current IPL season of 2024, the playoff teams include Kolkata Knight Riders (KKR), Sunrisers Hyderabad (SRH), Rajasthan Royals (RR) and Royal Challengers Bengaluru (RCB). IPL Winners List from 2008 to 2024 IPL 2024 Winners List: Man of the Match & Player of the Series Let’s have a look at the IPL Winners List from 2008 to 2024 with Captain, Man of the Match in the final, and Player of the Series. The readers can find the IPL Winner Lists from 2008 to 2024 from the article above. Ans. According to IPL Winner List, Mumbai Indians have won it 5 times, CSK has won it 4 times, KKR 3 times, SRH once and Deccan Chargers and Rajasthan Royals once',\n",
       "   'score': 0.890761,\n",
       "   'raw_content': None},\n",
       "  {'url': 'https://www.espncricinfo.com/series/indian-premier-league-2024-1410320',\n",
       "   'title': 'IPL | 2024 Indian Premier League | Live Score, Schedule, News',\n",
       "   'content': 'IPL | 2024 Indian Premier League | Live Score, Schedule, News RESULT • 3rd ODI • Ahmedabad IND 356 ENG (34.2/50 ov, T:357) 214 India won by 142 runs RESULT • 3rd Match • Tri-Nation • ODI • Karachi SA 352/5 PAK (49/50 ov, T:353) 355/4 Pakistan won by 6 wickets (with 6 balls remaining) RESULT • 51st Match • WCL 2 • ODI • Al Amerat USA 151 OMA (45.5/50 ov, T:152) 152/3 Oman won by 7 wickets (with 25 balls remaining) KKR won by 8 wickets (with 57 balls remaining) RR won by 4 wickets (with 6 balls remaining) KKR won by 8 wickets (with 38 balls remaining) PBKS won by 5 wickets (with 7 balls remaining)',\n",
       "   'score': 0.87348515,\n",
       "   'raw_content': None},\n",
       "  {'url': 'https://www.iplt20.com/video/58650',\n",
       "   'title': 'IPL 2024 winning Moment: When KKR lifted 3rd title',\n",
       "   'content': \"Related Videos · In conversation with IPL 2024 Winning Captain Shreyas Iyer · 27 May, 2024| 173.4k. 01:00 mins. Copy. img. Rinku Singh - God's\",\n",
       "   'score': 0.8565368,\n",
       "   'raw_content': None},\n",
       "  {'url': 'https://www.forbesindia.com/article/explainers/ipl-winners-list/95411/1',\n",
       "   'title': 'IPL Winners List From 2008 To 2024 - Forbes India',\n",
       "   'content': 'IPL winners list from 2008 to 2024 · Rajasthan Royals (RR) · Deccan Chargers (DC) · Chennai Super Kings (CSK) · Kolkata Knight Riders (KKR) · Mumbai',\n",
       "   'score': 0.82425016,\n",
       "   'raw_content': None}],\n",
       " 'response_time': 3.86}"
      ]
     },
     "execution_count": 10,
     "metadata": {},
     "output_type": "execute_result"
    }
   ],
   "execution_count": 10
  },
  {
   "metadata": {
    "ExecuteTime": {
     "end_time": "2025-03-03T18:59:16.646602Z",
     "start_time": "2025-03-03T18:59:11.913294Z"
    }
   },
   "cell_type": "code",
   "source": [
    "answer = client.qna_search(query=\"who won 2023 ipl\")\n",
    "answer"
   ],
   "id": "e9fcd0368cd82b90",
   "outputs": [
    {
     "data": {
      "text/plain": [
       "'The Chennai Super Kings won the 2023 IPL, securing their fifth title by defeating the Gujarat Titans in the final.'"
      ]
     },
     "execution_count": 11,
     "metadata": {},
     "output_type": "execute_result"
    }
   ],
   "execution_count": 11
  },
  {
   "metadata": {
    "ExecuteTime": {
     "end_time": "2025-03-03T18:59:29.318397Z",
     "start_time": "2025-03-03T18:59:26.968161Z"
    }
   },
   "cell_type": "code",
   "source": [
    "from langchain.adapters.openai import convert_openai_messages\n",
    "from langchain_openai import ChatOpenAI\n",
    "\n",
    "query = \"who won 2023 ipl\"\n",
    "\n",
    "response = client.search(query=query, max_results=5, search_depth='advanced')['results']\n",
    "response"
   ],
   "id": "9de0a89c669ba8ff",
   "outputs": [
    {
     "data": {
      "text/plain": [
       "[{'url': 'https://www.sportsrealize.com/2023-ipl-winner/',\n",
       "  'title': '2023 IPL Winner, Runner-up, Playing Team, Final Venue',\n",
       "  'content': 'Chennai Super Kings – 2023 IPL Champions. IPL 2023 Winner. Under the astute leadership of MS Dhoni, CSK continued their dominance in the IPL.',\n",
       "  'score': 0.90102744,\n",
       "  'raw_content': None},\n",
       " {'url': 'https://en.wikipedia.org/wiki/2023_Indian_Premier_League_final',\n",
       "  'title': '2023 Indian Premier League final - Wikipedia',\n",
       "  'content': 'After winning the toss, Chennai Super Kings elected to field, with Gujarat Titans scoring 214 runs for 4 wickets, setting the record for the highest team total in an IPL final.[1] Due to inclement weather, the Super Kings\\' innings was delayed by over an hour, and the target was adjusted by the Duckworth–Lewis–Stern (DLS) method to 171 runs in 15 overs; the team would ultimately win by five wickets, securing their fifth IPL title. ^ \"IPL 2023, Gujarat Titans Vs Chennai Super Kings: Shubman Gill Powers GT To 5-Wicket Win Over CSK In Opening Match\".',\n",
       "  'score': 0.8978479,\n",
       "  'raw_content': None},\n",
       " {'url': 'https://www.sportingnews.com/in/cricket/news/who-won-ipl-2023-reliving-final-indian-premier-league/27025b661af88abfb427e62e',\n",
       "  'title': 'Who won IPL 2023? Reliving dramatic final of Indian Premier ...',\n",
       "  'content': \"BET ON ALL THE LATEST CRICKET WITH\\nFOR THE BEST ODDS AND OFFERS\\nON THE BIGGEST SPORTS\\nCLICK HERE TO MAKE YOUR BET\\nIf you purchase a product or register for an account through one of the links on our site, we may receive compensation.\\n However, the first twist of the run chase came with the introduction to teenage Afghan wrist spinner Noor Ahmad, who removed both the openers in his first over (and CSK's 7th) to bring the momentum back on GT's side.\\n Ahead of what is expected to be an even bigger and better season than the previous years, let's take a walk down the memory lane and relive the final of IPL 2023, which was hands down one of the greatest IPL games of all-time.\\n IPL 2023 Final recap: What happened during the title-decider?\\nOriginally scheduled to be played on May 28, 2023, the IPL 2023 final between CSK and GT was moved to the reserve day on May 29.\\n CSK won the final to win a joint record-fifth IPL title, winning the game on the final delivery of the match.\\n\",\n",
       "  'score': 0.8952393,\n",
       "  'raw_content': None},\n",
       " {'url': 'https://www.sportingnews.com/in/cricket/news/ipl-winning-teams-full-list-champions-finals-2008-2023/c8d2e2cd93d06a9886f18434',\n",
       "  'title': 'IPL winning teams: Full list of champions, finals from 2008-2023',\n",
       "  'content': \"MS Dhoni led CSK won the IPL title in 2023 beating Gujarat Titans final by 5 wickets. It was the team's record fifth IPL title. List of IPL\",\n",
       "  'score': 0.88178825,\n",
       "  'raw_content': None},\n",
       " {'url': 'https://en.wikipedia.org/wiki/2023_Indian_Premier_League',\n",
       "  'title': '2023 Indian Premier League - Wikipedia',\n",
       "  'content': 'Advance to Qualifier 1\\nAdvance to Eliminator\\nMatch summary[edit]\\nLeague stage[edit]\\nThe schedule for the group stages was published on 17 February 2023.[22]\\nPlayoffs[edit]\\nThe full schedule for the playoffs was announced on 21 April 2023.[37]\\nQualifier 1[edit]\\nEliminator[edit]\\nQualifier 2[edit]\\nFinal[edit]\\nBroadcasting[edit]\\nIn June 2022, the broadcasting rights for the league between 2023 and 2027 were sold for ₹48,390 crore (US$6.1\\xa0billion), establishing the league as the second most expensive tournament in the world after the National Football League, overtaking the English Premier League.[42] Of these 5 designated players, any impact player could then be bought on to feature in the match.[60]\\nMany cricket pundits criticised the new impact player rule because of the thought that this rule negates the role and involvement of all-rounders in the game.[61][62]\\nStatistics and awards[edit]\\n The most expensive player was Sam Curran, bought by Punjab Kings for ₹18.50 crore (US$2.3\\xa0million), the most paid for a player in the history of the league.[17]\\nRules[edit]\\nA number of new laws have been introduced in this season:\\n IPL evening matches are scheduled to start at 7:30 pm and, therefore, should be concluded by 10:50 pm.[59]\\nImpact player rule[edit]\\nThe 2023 season saw the introduction of the impact player rule which allowed for each team to provide a list of 5 players along with the list of their playing 11. It is organised by the Board of Control for Cricket in India.[1]\\nIn the final, Chennai Super Kings defeated Gujarat Titans, by five wickets (DLS method) to win their fifth league title.[2]\\nBackground[edit]\\nThe league returned to its original home-and-away format after a period of four years.[3]',\n",
       "  'score': 0.81595254,\n",
       "  'raw_content': None}]"
      ]
     },
     "execution_count": 12,
     "metadata": {},
     "output_type": "execute_result"
    }
   ],
   "execution_count": 12
  },
  {
   "metadata": {
    "ExecuteTime": {
     "end_time": "2025-03-03T19:00:08.208735Z",
     "start_time": "2025-03-03T19:00:08.203842Z"
    }
   },
   "cell_type": "code",
   "source": [
    "prompt = [\n",
    "    {\n",
    "        'role': 'system',\n",
    "        'content': f'you are an AI critical thinker research assistant.'\n",
    "                   f'your sole purpose is to write a well written, objective and structured reports on given text.'\n",
    "    },\n",
    "    {\n",
    "        'role': 'user',\\\n",
    "        'content':f'Information {response}'\n",
    "                  f'Using the above information, answer the following query: {query} in a detailed report'\n",
    "    }\n",
    "]\n",
    "\n",
    "lc_messages = convert_openai_messages(prompt)\n",
    "lc_messages"
   ],
   "id": "7836be6c218abdf",
   "outputs": [
    {
     "data": {
      "text/plain": [
       "[SystemMessage(content='you are an AI critical thinker research assistant.your sole purpose is to write a well written, objective and structured reports on given text.', additional_kwargs={}, response_metadata={}),\n",
       " HumanMessage(content='Information [{\\'url\\': \\'https://www.sportsrealize.com/2023-ipl-winner/\\', \\'title\\': \\'2023 IPL Winner, Runner-up, Playing Team, Final Venue\\', \\'content\\': \\'Chennai Super Kings – 2023 IPL Champions. IPL 2023 Winner. Under the astute leadership of MS Dhoni, CSK continued their dominance in the IPL.\\', \\'score\\': 0.90102744, \\'raw_content\\': None}, {\\'url\\': \\'https://en.wikipedia.org/wiki/2023_Indian_Premier_League_final\\', \\'title\\': \\'2023 Indian Premier League final - Wikipedia\\', \\'content\\': \\'After winning the toss, Chennai Super Kings elected to field, with Gujarat Titans scoring 214 runs for 4 wickets, setting the record for the highest team total in an IPL final.[1] Due to inclement weather, the Super Kings\\\\\\' innings was delayed by over an hour, and the target was adjusted by the Duckworth–Lewis–Stern (DLS) method to 171 runs in 15 overs; the team would ultimately win by five wickets, securing their fifth IPL title. ^ \"IPL 2023, Gujarat Titans Vs Chennai Super Kings: Shubman Gill Powers GT To 5-Wicket Win Over CSK In Opening Match\".\\', \\'score\\': 0.8978479, \\'raw_content\\': None}, {\\'url\\': \\'https://www.sportingnews.com/in/cricket/news/who-won-ipl-2023-reliving-final-indian-premier-league/27025b661af88abfb427e62e\\', \\'title\\': \\'Who won IPL 2023? Reliving dramatic final of Indian Premier ...\\', \\'content\\': \"BET ON ALL THE LATEST CRICKET WITH\\\\nFOR THE BEST ODDS AND OFFERS\\\\nON THE BIGGEST SPORTS\\\\nCLICK HERE TO MAKE YOUR BET\\\\nIf you purchase a product or register for an account through one of the links on our site, we may receive compensation.\\\\n However, the first twist of the run chase came with the introduction to teenage Afghan wrist spinner Noor Ahmad, who removed both the openers in his first over (and CSK\\'s 7th) to bring the momentum back on GT\\'s side.\\\\n Ahead of what is expected to be an even bigger and better season than the previous years, let\\'s take a walk down the memory lane and relive the final of IPL 2023, which was hands down one of the greatest IPL games of all-time.\\\\n IPL 2023 Final recap: What happened during the title-decider?\\\\nOriginally scheduled to be played on May 28, 2023, the IPL 2023 final between CSK and GT was moved to the reserve day on May 29.\\\\n CSK won the final to win a joint record-fifth IPL title, winning the game on the final delivery of the match.\\\\n\", \\'score\\': 0.8952393, \\'raw_content\\': None}, {\\'url\\': \\'https://www.sportingnews.com/in/cricket/news/ipl-winning-teams-full-list-champions-finals-2008-2023/c8d2e2cd93d06a9886f18434\\', \\'title\\': \\'IPL winning teams: Full list of champions, finals from 2008-2023\\', \\'content\\': \"MS Dhoni led CSK won the IPL title in 2023 beating Gujarat Titans final by 5 wickets. It was the team\\'s record fifth IPL title. List of IPL\", \\'score\\': 0.88178825, \\'raw_content\\': None}, {\\'url\\': \\'https://en.wikipedia.org/wiki/2023_Indian_Premier_League\\', \\'title\\': \\'2023 Indian Premier League - Wikipedia\\', \\'content\\': \\'Advance to Qualifier 1\\\\nAdvance to Eliminator\\\\nMatch summary[edit]\\\\nLeague stage[edit]\\\\nThe schedule for the group stages was published on 17 February 2023.[22]\\\\nPlayoffs[edit]\\\\nThe full schedule for the playoffs was announced on 21 April 2023.[37]\\\\nQualifier 1[edit]\\\\nEliminator[edit]\\\\nQualifier 2[edit]\\\\nFinal[edit]\\\\nBroadcasting[edit]\\\\nIn June 2022, the broadcasting rights for the league between 2023 and 2027 were sold for ₹48,390 crore (US$6.1\\\\xa0billion), establishing the league as the second most expensive tournament in the world after the National Football League, overtaking the English Premier League.[42] Of these 5 designated players, any impact player could then be bought on to feature in the match.[60]\\\\nMany cricket pundits criticised the new impact player rule because of the thought that this rule negates the role and involvement of all-rounders in the game.[61][62]\\\\nStatistics and awards[edit]\\\\n The most expensive player was Sam Curran, bought by Punjab Kings for ₹18.50 crore (US$2.3\\\\xa0million), the most paid for a player in the history of the league.[17]\\\\nRules[edit]\\\\nA number of new laws have been introduced in this season:\\\\n IPL evening matches are scheduled to start at 7:30 pm and, therefore, should be concluded by 10:50 pm.[59]\\\\nImpact player rule[edit]\\\\nThe 2023 season saw the introduction of the impact player rule which allowed for each team to provide a list of 5 players along with the list of their playing 11. It is organised by the Board of Control for Cricket in India.[1]\\\\nIn the final, Chennai Super Kings defeated Gujarat Titans, by five wickets (DLS method) to win their fifth league title.[2]\\\\nBackground[edit]\\\\nThe league returned to its original home-and-away format after a period of four years.[3]\\', \\'score\\': 0.81595254, \\'raw_content\\': None}]Using the above information, answer the following query: who won 2023 ipl in a detailed report', additional_kwargs={}, response_metadata={})]"
      ]
     },
     "execution_count": 13,
     "metadata": {},
     "output_type": "execute_result"
    }
   ],
   "execution_count": 13
  },
  {
   "metadata": {
    "ExecuteTime": {
     "end_time": "2025-03-03T19:01:27.769577Z",
     "start_time": "2025-03-03T19:01:15.425064Z"
    }
   },
   "cell_type": "code",
   "source": [
    "response = ChatOpenAI(model=\"gpt-4o-mini\", temperature=0.5).invoke(lc_messages)\n",
    "print(response.content)"
   ],
   "id": "c0f000d6bf018c77",
   "outputs": [
    {
     "name": "stdout",
     "output_type": "stream",
     "text": [
      "# Detailed Report on the Winner of the 2023 Indian Premier League\n",
      "\n",
      "## Introduction\n",
      "The 2023 Indian Premier League (IPL) concluded with a dramatic final that saw the Chennai Super Kings (CSK) emerge as champions. This report outlines the details surrounding the final match, the performance of the teams, and the significance of this victory in the context of IPL history.\n",
      "\n",
      "## Overview of the Final Match\n",
      "The IPL 2023 final was contested between the Chennai Super Kings and the Gujarat Titans. The match was originally scheduled for May 28, 2023, but due to inclement weather, it was postponed to May 29, 2023, which was designated as a reserve day. \n",
      "\n",
      "### Match Details\n",
      "- **Venue**: The final was played at the Narendra Modi Stadium in Ahmedabad.\n",
      "- **Toss**: CSK won the toss and elected to field first.\n",
      "- **Gujarat Titans' Innings**: The Titans scored 214 runs for 4 wickets, setting a record for the highest team total in an IPL final.\n",
      "- **CSK's Innings**: Due to rain interruptions, CSK's target was revised to 171 runs in 15 overs, using the Duckworth–Lewis–Stern (DLS) method.\n",
      "\n",
      "### Key Events\n",
      "- The match saw a significant turning point with the introduction of Noor Ahmad, a teenage wrist spinner from Afghanistan, who took two crucial wickets in his first over, shifting the momentum towards the Gujarat Titans.\n",
      "- The final concluded with CSK winning by five wickets, achieving the target on the last delivery of the match.\n",
      "\n",
      "## Significance of the Victory\n",
      "With this win, the Chennai Super Kings secured their fifth IPL title, tying them with the Mumbai Indians for the most championships in IPL history. This victory further solidified CSK's status as one of the most successful franchises in the league, underlining their consistent performance over the years.\n",
      "\n",
      "### Leadership and Strategy\n",
      "The team's success can be attributed to the astute leadership of MS Dhoni, who has been a pivotal figure in CSK's achievements. His experience and tactical acumen played a significant role in navigating the challenges posed during the final.\n",
      "\n",
      "## Conclusion\n",
      "The 2023 IPL final was not only a thrilling encounter but also a historic moment for the Chennai Super Kings as they clinched their fifth title. The match showcased high-stakes cricket, strategic depth, and the unpredictable nature of the sport, making it a memorable event for fans and players alike. CSK's victory reinforces their legacy within the IPL and sets the stage for future competitions in the league. \n",
      "\n",
      "For further details, you can refer to the following sources:\n",
      "- [Sports Realize](https://www.sportsrealize.com/2023-ipl-winner/)\n",
      "- [Wikipedia - 2023 Indian Premier League Final](https://en.wikipedia.org/wiki/2023_Indian_Premier_League_final)\n",
      "- [Sporting News - IPL 2023 Final Recap](https://www.sportingnews.com/in/cricket/news/who-won-ipl-2023-reliving-final-indian-premier/27025b661af88abfb427e62e)\n"
     ]
    }
   ],
   "execution_count": 14
  },
  {
   "metadata": {},
   "cell_type": "markdown",
   "source": "### Tools",
   "id": "3732957fbff3f1d3"
  },
  {
   "metadata": {
    "ExecuteTime": {
     "end_time": "2025-03-03T19:01:30.509060Z",
     "start_time": "2025-03-03T19:01:30.367838Z"
    }
   },
   "cell_type": "code",
   "source": [
    "from langchain_community.tools.tavily_search import TavilySearchResults\n",
    "tool = TavilySearchResults(max_results=5)\n",
    "tools = [tool]"
   ],
   "id": "5cbcd9c47194c050",
   "outputs": [],
   "execution_count": 15
  },
  {
   "metadata": {
    "ExecuteTime": {
     "end_time": "2025-03-03T19:01:32.816378Z",
     "start_time": "2025-03-03T19:01:30.924124Z"
    }
   },
   "cell_type": "code",
   "source": [
    "response = tool.invoke('what is gpt4.5')\n",
    "response"
   ],
   "id": "aa57d35aaa49559e",
   "outputs": [
    {
     "data": {
      "text/plain": [
       "[{'url': 'https://venturebeat.com/ai/openai-releases-gpt-4-5/',\n",
       "  'content': 'It’s here: OpenAI has announced the release of GPT-4.5, a research preview of its latest and most powerful large language model (LLM) for chat applications. During the livestream, OpenAI researchers noted how it was trained on data generated by smaller AI models and that this improved its “world model.” They also stated it was pre-trained across multiple data centers concurrently, suggesting a decentralized approach similar to that of rival lab Nous Research. At the same time, the pricing for GPT-4.5 through OpenAI’s API for third-party developers looking to build applications on the model appears shockingly high, at $75/$180 per million input/output tokens compared to $2.50/$10 for GPT-4o. As AI continues to evolve, GPT-4.5 marks another milestone in OpenAI’s pursuit of more capable, reliable, and user-aligned language models, promising new opportunities for innovation in the enterprise landscape.'},\n",
       " {'url': 'https://openai.com/index/introducing-gpt-4-5/',\n",
       "  'content': 'GPT‑4.5 doesn’t think before it responds, which makes its strengths particularly different from reasoning models like OpenAI o1. As models like GPT‑4.5 become smarter and more knowledgeable through pre-training, they will serve as an even stronger foundation for reasoning and tool-using agents. GPT‑4.5 was trained with new techniques for supervision that are combined with traditional supervised fine-tuning (SFT) and reinforcement learning from human feedback (RLHF) methods like those used for GPT‑4o. Based on early testing, developers may find GPT‑4.5 particularly useful for applications that benefit from its higher emotional intelligence and creativity—such as writing help, communication, learning, coaching, and brainstorming. Even by purely scaling up unsupervised learning, GPT‑4.5 shows meaningful improvements over previous models like GPT‑4o.'},\n",
       " {'url': 'https://www.cnbc.com/2025/02/27/openai-launching-gpt-4point5-general-purpose-large-language-model.html',\n",
       "  'content': 'Best Credit Cards for Small Business GPT-4.5 demonstrated a lower hallucination rate than OpenAI\\'s GPT-4o and o1 models in one test, the company said in a report accompanying Thursday\\'s release. At the same time, the new model won\\'t be the state of the art in benchmarks, OpenAI co-founder and CEO Sam Altman said in a Thursday X post, describing the model as having \"a magic to it i haven\\'t felt before.\" With over 400 million weekly active users, OpenAI intends to bring GPT-4.5 to those with ChatGPT Plus and Team subscriptions next week, the company\\'s research lead, Alex Paino, a member of the company\\'s technical staff, said on a livestream.'},\n",
       " {'url': 'https://www.theverge.com/news/620021/openai-gpt-4-5-orion-ai-model-release',\n",
       "  'content': 'OpenAI announces GPT-4.5, warns it’s not a frontier AI model | The Verge OpenAI announces GPT-4.5, warns it’s not a frontier AI model OpenAI announces GPT-4.5, warns it’s not a frontier AI model OpenAI is calling the release its “most knowledgeable model yet,” but it’s warning that GPT-4.5 is not a frontier model and might not perform as well as o1 or o3-mini. We revealed in Notepad last week that OpenAI was planning to launch GPT-4.5 by the end of February, and GPT-5 as soon as late May. OpenAI CEO Sam Altman has referred to GPT-5 as a “system that integrates a lot of our technology,” and it will include OpenAI’s new o3 reasoning model, which the company teased during its 12 days of Christmas announcements in December.'},\n",
       " {'url': 'https://medium.com/data-science-in-your-pocket/openai-gpt4-5-its-bad-37545bd77194',\n",
       "  'content': \"Don't pay for OpenAI GPT4.5 | by Mehul Gupta | Data Science in your pocket | Feb, 2025 | Medium Lagging in Specific Domains: In standard science and math benchmarks, GPT-4.5 scores worse than some of OpenAI’s own reasoning models, such as o3. High Costs for Limited Gains: The substantial increase in the API costs for GPT-4.5, making it 2900% more expensive for input and 1300% dearer for output compared to its predecessor GPT-4o, has led to concerns among users. Let us compare this SOTA model with GPT4.5 in terms of benchmarking, cost, and other matrices. Cost: GPT-4.5 is significantly more expensive than Claude 3.7 Sonnet, making it less accessible for many users. GPT-4.5 despite the hype, offers only marginal performance improvements over previous models, particularly in critical reasoning tasks.\"}]"
      ]
     },
     "execution_count": 16,
     "metadata": {},
     "output_type": "execute_result"
    }
   ],
   "execution_count": 16
  },
  {
   "metadata": {
    "ExecuteTime": {
     "end_time": "2025-03-03T19:01:51.449531Z",
     "start_time": "2025-03-03T19:01:51.443428Z"
    }
   },
   "cell_type": "code",
   "source": "llm.bind_tools(tools)",
   "id": "b0090849352f7476",
   "outputs": [
    {
     "data": {
      "text/plain": [
       "RunnableBinding(bound=ChatOpenAI(client=<openai.resources.chat.completions.completions.Completions object at 0x0000018C5FA08140>, async_client=<openai.resources.chat.completions.completions.AsyncCompletions object at 0x0000018C5FA09DF0>, root_client=<openai.OpenAI object at 0x0000018C5F6C5B80>, root_async_client=<openai.AsyncOpenAI object at 0x0000018C5FA081A0>, model_name='gpt-4o-mini', temperature=0.5, model_kwargs={}, openai_api_key=SecretStr('**********')), kwargs={'tools': [{'type': 'function', 'function': {'name': 'tavily_search_results_json', 'description': 'A search engine optimized for comprehensive, accurate, and trusted results. Useful for when you need to answer questions about current events. Input should be a search query.', 'parameters': {'properties': {'query': {'description': 'search query to look up', 'type': 'string'}}, 'required': ['query'], 'type': 'object'}}}]}, config={}, config_factories=[])"
      ]
     },
     "execution_count": 17,
     "metadata": {},
     "output_type": "execute_result"
    }
   ],
   "execution_count": 17
  },
  {
   "metadata": {
    "ExecuteTime": {
     "end_time": "2025-03-03T19:03:18.893426Z",
     "start_time": "2025-03-03T19:03:18.890262Z"
    }
   },
   "cell_type": "code",
   "source": "from langgraph.prebuilt import ToolNode, tools_condition",
   "id": "50837b7acbf7bc90",
   "outputs": [],
   "execution_count": 20
  },
  {
   "metadata": {
    "ExecuteTime": {
     "end_time": "2025-03-03T19:06:38.834615Z",
     "start_time": "2025-03-03T19:06:38.325158Z"
    }
   },
   "cell_type": "code",
   "source": [
    "class State(TypedDict):\n",
    "    messages: Annotated[list, add_messages]\n",
    "\n",
    "graph_builder = StateGraph(State)\n",
    "\n",
    "llm = ChatOpenAI(model=\"gpt-4o-mini\", temperature=0.5)\n",
    "llm_with_tools = llm.bind_tools(tools)\n",
    "\n",
    "def chatbot(state : State):\n",
    "    return {\"messages\" : [llm_with_tools.invoke(state[\"messages\"])]}\n",
    "\n",
    "graph_builder.add_node(\"chatbot\", chatbot)\n",
    "graph_builder.add_node(\"tools\", ToolNode(tools=tools))\n",
    "\n",
    "graph_builder.add_conditional_edges(\n",
    "    'chatbot',\n",
    "    tools_condition\n",
    ")\n",
    "\n",
    "graph_builder.add_edge('tools', 'chatbot')\n",
    "\n",
    "graph_builder.set_entry_point(\"chatbot\")\n",
    "# graph_builder.set_finish_point(\"chatbot\")\n",
    "\n",
    "graph_with_tools = graph_builder.compile()"
   ],
   "id": "5d5d90df7d67abca",
   "outputs": [],
   "execution_count": 21
  },
  {
   "metadata": {
    "ExecuteTime": {
     "end_time": "2025-03-03T19:06:47.353838Z",
     "start_time": "2025-03-03T19:06:46.957263Z"
    }
   },
   "cell_type": "code",
   "source": "display(Image(graph_with_tools.get_graph().draw_mermaid_png()))",
   "id": "1489960fcba40305",
   "outputs": [
    {
     "data": {
      "image/png": "[encoded data removed]",
      "text/plain": [
       "<IPython.core.display.Image object>"
      ]
     },
     "metadata": {},
     "output_type": "display_data"
    }
   ],
   "execution_count": 22
  },
  {
   "metadata": {
    "ExecuteTime": {
     "end_time": "2025-03-03T19:08:28.683762Z",
     "start_time": "2025-03-03T19:07:58.671235Z"
    }
   },
   "cell_type": "code",
   "source": [
    "while True:\n",
    "    user_input = input('User: ')\n",
    "    if user_input.lower() in [\"q\", \"quit\", \"exit\", \"bye\"]:\n",
    "        print(\"Goodbye\")\n",
    "        break\n",
    "\n",
    "    for event in graph.stream({'messages' : ('user', user_input)}):\n",
    "        for value in event.values():\n",
    "            print(f\"assistant: {value['messages'][-1].content}\")\n",
    "\n",
    "            print('-' *20)"
   ],
   "id": "32d382ff772496e2",
   "outputs": [
    {
     "name": "stdout",
     "output_type": "stream",
     "text": [
      "assistant: I'm sorry, but I don't have access to real-time data or events that occurred after October 2023, including the IPL 2024 final. You can check the latest sports news or the official IPL website for the most current information on the match and the Man of the Match award.\n",
      "--------------------\n",
      "assistant: In the IPL 2023 final, Devon Conway of Chennai Super Kings (CSK) was awarded the Man of the Match for his outstanding performance. He scored 47 runs off 25 balls, helping CSK secure their fifth IPL title.\n",
      "--------------------\n",
      "Goodbye\n"
     ]
    }
   ],
   "execution_count": 23
  },
  {
   "metadata": {
    "ExecuteTime": {
     "end_time": "2025-03-03T19:27:08.271185Z",
     "start_time": "2025-03-03T19:27:08.260550Z"
    }
   },
   "cell_type": "code",
   "source": [
    "from langgraph.checkpoint.memory import MemorySaver\n",
    "from langgraph.checkpoint.sqlite import SqliteSaver\n",
    "\n",
    "memory = SqliteSaver.from_conn_string(':memory:')\n",
    "graph_with_tools = graph_builder.compile(checkpointer=MemorySaver())"
   ],
   "id": "dc2bab15ab5b67d9",
   "outputs": [],
   "execution_count": 24
  },
  {
   "metadata": {
    "ExecuteTime": {
     "end_time": "2025-03-03T19:27:17.424445Z",
     "start_time": "2025-03-03T19:27:16.367026Z"
    }
   },
   "cell_type": "code",
   "source": "display(Image(graph_with_tools.get_graph().draw_mermaid_png()))",
   "id": "295d21b59f8eb891",
   "outputs": [
    {
     "data": {
      "image/png": "[encoded data removed]",
      "text/plain": [
       "<IPython.core.display.Image object>"
      ]
     },
     "metadata": {},
     "output_type": "display_data"
    }
   ],
   "execution_count": 25
  },
  {
   "metadata": {
    "ExecuteTime": {
     "end_time": "2025-03-03T19:27:47.708947Z",
     "start_time": "2025-03-03T19:27:47.706453Z"
    }
   },
   "cell_type": "code",
   "source": [
    "config = {\n",
    "    'configurable' : {\n",
    "        'thread_id' : '1'\n",
    "    }\n",
    "}"
   ],
   "id": "4dd24e04e2e0461d",
   "outputs": [],
   "execution_count": 26
  },
  {
   "metadata": {
    "ExecuteTime": {
     "end_time": "2025-03-03T19:29:24.531751Z",
     "start_time": "2025-03-03T19:29:22.914170Z"
    }
   },
   "cell_type": "code",
   "source": [
    "prompt = 'hi my name is srikanth'\n",
    "events = graph_with_tools.stream(\n",
    "    {'messages' : ('user', prompt)},\n",
    "    config=config,\n",
    "    stream_mode='values'\n",
    ")\n",
    "for event in events:\n",
    "    event['messages'][-1].pretty_print()"
   ],
   "id": "4e899b4f2df52d79",
   "outputs": [
    {
     "name": "stdout",
     "output_type": "stream",
     "text": [
      "================================\u001B[1m Human Message \u001B[0m=================================\n",
      "\n",
      "hi my name is srikanth\n",
      "==================================\u001B[1m Ai Message \u001B[0m==================================\n",
      "\n",
      "Hello Srikanth! How can I assist you today?\n"
     ]
    }
   ],
   "execution_count": 27
  },
  {
   "metadata": {
    "ExecuteTime": {
     "end_time": "2025-03-03T19:33:01.662418Z",
     "start_time": "2025-03-03T19:33:00.543767Z"
    }
   },
   "cell_type": "code",
   "source": [
    "prompt = 'what is my name, can you call me with my name'\n",
    "events = graph_with_tools.stream(\n",
    "    {'messages' : ('user', prompt)},\n",
    "    config=config,\n",
    "    stream_mode='values'\n",
    ")\n",
    "for event in events:\n",
    "    print(event)\n",
    "    event['messages'][-1].pretty_print()"
   ],
   "id": "280a98748d31df3b",
   "outputs": [
    {
     "name": "stdout",
     "output_type": "stream",
     "text": [
      "{'messages': [HumanMessage(content='hi my name is srikanth', additional_kwargs={}, response_metadata={}, id='5d971109-d39d-4cf9-bd89-5f35a746e595'), AIMessage(content='Hello Srikanth! How can I assist you today?', additional_kwargs={'refusal': None}, response_metadata={'token_usage': {'completion_tokens': 14, 'prompt_tokens': 86, 'total_tokens': 100, 'completion_tokens_details': {'accepted_prediction_tokens': 0, 'audio_tokens': 0, 'reasoning_tokens': 0, 'rejected_prediction_tokens': 0}, 'prompt_tokens_details': {'audio_tokens': 0, 'cached_tokens': 0}}, 'model_name': 'gpt-4o-mini-2024-07-18', 'system_fingerprint': 'fp_06737a9306', 'finish_reason': 'stop', 'logprobs': None}, id='run-b017110c-5cf8-41d4-a9ea-04b64e85c02a-0', usage_metadata={'input_tokens': 86, 'output_tokens': 14, 'total_tokens': 100, 'input_token_details': {'audio': 0, 'cache_read': 0}, 'output_token_details': {'audio': 0, 'reasoning': 0}}), HumanMessage(content='what is my name, can you call me with my name', additional_kwargs={}, response_metadata={}, id='e65f4aa5-e0f8-4a15-8e55-fe605e61772a'), AIMessage(content='Of course, Srikanth! How can I help you today?', additional_kwargs={'refusal': None}, response_metadata={'token_usage': {'completion_tokens': 16, 'prompt_tokens': 118, 'total_tokens': 134, 'completion_tokens_details': {'accepted_prediction_tokens': 0, 'audio_tokens': 0, 'reasoning_tokens': 0, 'rejected_prediction_tokens': 0}, 'prompt_tokens_details': {'audio_tokens': 0, 'cached_tokens': 0}}, 'model_name': 'gpt-4o-mini-2024-07-18', 'system_fingerprint': 'fp_06737a9306', 'finish_reason': 'stop', 'logprobs': None}, id='run-ce2bd9b2-27e1-40fd-b539-c00da5f62d80-0', usage_metadata={'input_tokens': 118, 'output_tokens': 16, 'total_tokens': 134, 'input_token_details': {'audio': 0, 'cache_read': 0}, 'output_token_details': {'audio': 0, 'reasoning': 0}}), HumanMessage(content='what is my name, can you call me with my name', additional_kwargs={}, response_metadata={}, id='76eac4b4-b6dd-4be7-9ee1-53f8012ca544')]}\n",
      "================================\u001B[1m Human Message \u001B[0m=================================\n",
      "\n",
      "what is my name, can you call me with my name\n",
      "{'messages': [HumanMessage(content='hi my name is srikanth', additional_kwargs={}, response_metadata={}, id='5d971109-d39d-4cf9-bd89-5f35a746e595'), AIMessage(content='Hello Srikanth! How can I assist you today?', additional_kwargs={'refusal': None}, response_metadata={'token_usage': {'completion_tokens': 14, 'prompt_tokens': 86, 'total_tokens': 100, 'completion_tokens_details': {'accepted_prediction_tokens': 0, 'audio_tokens': 0, 'reasoning_tokens': 0, 'rejected_prediction_tokens': 0}, 'prompt_tokens_details': {'audio_tokens': 0, 'cached_tokens': 0}}, 'model_name': 'gpt-4o-mini-2024-07-18', 'system_fingerprint': 'fp_06737a9306', 'finish_reason': 'stop', 'logprobs': None}, id='run-b017110c-5cf8-41d4-a9ea-04b64e85c02a-0', usage_metadata={'input_tokens': 86, 'output_tokens': 14, 'total_tokens': 100, 'input_token_details': {'audio': 0, 'cache_read': 0}, 'output_token_details': {'audio': 0, 'reasoning': 0}}), HumanMessage(content='what is my name, can you call me with my name', additional_kwargs={}, response_metadata={}, id='e65f4aa5-e0f8-4a15-8e55-fe605e61772a'), AIMessage(content='Of course, Srikanth! How can I help you today?', additional_kwargs={'refusal': None}, response_metadata={'token_usage': {'completion_tokens': 16, 'prompt_tokens': 118, 'total_tokens': 134, 'completion_tokens_details': {'accepted_prediction_tokens': 0, 'audio_tokens': 0, 'reasoning_tokens': 0, 'rejected_prediction_tokens': 0}, 'prompt_tokens_details': {'audio_tokens': 0, 'cached_tokens': 0}}, 'model_name': 'gpt-4o-mini-2024-07-18', 'system_fingerprint': 'fp_06737a9306', 'finish_reason': 'stop', 'logprobs': None}, id='run-ce2bd9b2-27e1-40fd-b539-c00da5f62d80-0', usage_metadata={'input_tokens': 118, 'output_tokens': 16, 'total_tokens': 134, 'input_token_details': {'audio': 0, 'cache_read': 0}, 'output_token_details': {'audio': 0, 'reasoning': 0}}), HumanMessage(content='what is my name, can you call me with my name', additional_kwargs={}, response_metadata={}, id='76eac4b4-b6dd-4be7-9ee1-53f8012ca544'), AIMessage(content='Your name is Srikanth. How can I assist you today, Srikanth?', additional_kwargs={'refusal': None}, response_metadata={'token_usage': {'completion_tokens': 20, 'prompt_tokens': 152, 'total_tokens': 172, 'completion_tokens_details': {'accepted_prediction_tokens': 0, 'audio_tokens': 0, 'reasoning_tokens': 0, 'rejected_prediction_tokens': 0}, 'prompt_tokens_details': {'audio_tokens': 0, 'cached_tokens': 0}}, 'model_name': 'gpt-4o-mini-2024-07-18', 'system_fingerprint': 'fp_06737a9306', 'finish_reason': 'stop', 'logprobs': None}, id='run-e4c7d332-ee97-4921-acf6-eca074480ba7-0', usage_metadata={'input_tokens': 152, 'output_tokens': 20, 'total_tokens': 172, 'input_token_details': {'audio': 0, 'cache_read': 0}, 'output_token_details': {'audio': 0, 'reasoning': 0}})]}\n",
      "==================================\u001B[1m Ai Message \u001B[0m==================================\n",
      "\n",
      "Your name is Srikanth. How can I assist you today, Srikanth?\n"
     ]
    }
   ],
   "execution_count": 30
  },
  {
   "metadata": {
    "ExecuteTime": {
     "end_time": "2025-03-03T19:31:09.806704Z",
     "start_time": "2025-03-03T19:31:09.801705Z"
    }
   },
   "cell_type": "code",
   "source": [
    "snap_shot = graph_with_tools.get_state(config)\n",
    "snap_shot"
   ],
   "id": "f86e1ff8ed71255b",
   "outputs": [
    {
     "data": {
      "text/plain": [
       "StateSnapshot(values={'messages': [HumanMessage(content='hi my name is srikanth', additional_kwargs={}, response_metadata={}, id='5d971109-d39d-4cf9-bd89-5f35a746e595'), AIMessage(content='Hello Srikanth! How can I assist you today?', additional_kwargs={'refusal': None}, response_metadata={'token_usage': {'completion_tokens': 14, 'prompt_tokens': 86, 'total_tokens': 100, 'completion_tokens_details': {'accepted_prediction_tokens': 0, 'audio_tokens': 0, 'reasoning_tokens': 0, 'rejected_prediction_tokens': 0}, 'prompt_tokens_details': {'audio_tokens': 0, 'cached_tokens': 0}}, 'model_name': 'gpt-4o-mini-2024-07-18', 'system_fingerprint': 'fp_06737a9306', 'finish_reason': 'stop', 'logprobs': None}, id='run-b017110c-5cf8-41d4-a9ea-04b64e85c02a-0', usage_metadata={'input_tokens': 86, 'output_tokens': 14, 'total_tokens': 100, 'input_token_details': {'audio': 0, 'cache_read': 0}, 'output_token_details': {'audio': 0, 'reasoning': 0}}), HumanMessage(content='what is my name, can you call me with my name', additional_kwargs={}, response_metadata={}, id='e65f4aa5-e0f8-4a15-8e55-fe605e61772a'), AIMessage(content='Of course, Srikanth! How can I help you today?', additional_kwargs={'refusal': None}, response_metadata={'token_usage': {'completion_tokens': 16, 'prompt_tokens': 118, 'total_tokens': 134, 'completion_tokens_details': {'accepted_prediction_tokens': 0, 'audio_tokens': 0, 'reasoning_tokens': 0, 'rejected_prediction_tokens': 0}, 'prompt_tokens_details': {'audio_tokens': 0, 'cached_tokens': 0}}, 'model_name': 'gpt-4o-mini-2024-07-18', 'system_fingerprint': 'fp_06737a9306', 'finish_reason': 'stop', 'logprobs': None}, id='run-ce2bd9b2-27e1-40fd-b539-c00da5f62d80-0', usage_metadata={'input_tokens': 118, 'output_tokens': 16, 'total_tokens': 134, 'input_token_details': {'audio': 0, 'cache_read': 0}, 'output_token_details': {'audio': 0, 'reasoning': 0}})]}, next=(), config={'configurable': {'thread_id': '1', 'checkpoint_ns': '', 'checkpoint_id': '1eff865e-6fe5-6357-8004-bbc0a6eaf8da'}}, metadata={'source': 'loop', 'writes': {'chatbot': {'messages': [AIMessage(content='Of course, Srikanth! How can I help you today?', additional_kwargs={'refusal': None}, response_metadata={'token_usage': {'completion_tokens': 16, 'prompt_tokens': 118, 'total_tokens': 134, 'completion_tokens_details': {'accepted_prediction_tokens': 0, 'audio_tokens': 0, 'reasoning_tokens': 0, 'rejected_prediction_tokens': 0}, 'prompt_tokens_details': {'audio_tokens': 0, 'cached_tokens': 0}}, 'model_name': 'gpt-4o-mini-2024-07-18', 'system_fingerprint': 'fp_06737a9306', 'finish_reason': 'stop', 'logprobs': None}, id='run-ce2bd9b2-27e1-40fd-b539-c00da5f62d80-0', usage_metadata={'input_tokens': 118, 'output_tokens': 16, 'total_tokens': 134, 'input_token_details': {'audio': 0, 'cache_read': 0}, 'output_token_details': {'audio': 0, 'reasoning': 0}})]}}, 'thread_id': '1', 'step': 4, 'parents': {}}, created_at='2025-03-03T19:30:02.258722+00:00', parent_config={'configurable': {'thread_id': '1', 'checkpoint_ns': '', 'checkpoint_id': '1eff865e-65b4-64c5-8003-b211d2b94c8c'}}, tasks=())"
      ]
     },
     "execution_count": 29,
     "metadata": {},
     "output_type": "execute_result"
    }
   ],
   "execution_count": 29
  },
  {
   "metadata": {},
   "cell_type": "markdown",
   "source": "### Reflection",
   "id": "943239ce09435cb0"
  },
  {
   "metadata": {
    "ExecuteTime": {
     "end_time": "2025-03-03T19:39:14.628334Z",
     "start_time": "2025-03-03T19:39:14.623848Z"
    }
   },
   "cell_type": "code",
   "source": [
    "from langchain_core.messages import AIMessage, HumanMessage, BaseMessage\n",
    "from langchain_core.prompts import ChatPromptTemplate, MessagesPlaceholder\n",
    "from langchain_openai import ChatOpenAI"
   ],
   "id": "6e989337fccfe33",
   "outputs": [],
   "execution_count": 31
  },
  {
   "metadata": {
    "ExecuteTime": {
     "end_time": "2025-03-03T20:12:35.982059Z",
     "start_time": "2025-03-03T20:12:35.978014Z"
    }
   },
   "cell_type": "code",
   "source": [
    "# generation_prompt = ChatPromptTemplate.from_messages(\n",
    "#\n",
    "# )"
   ],
   "id": "7df5f81681ca1ff0",
   "outputs": [],
   "execution_count": 32
  },
  {
   "metadata": {
    "ExecuteTime": {
     "end_time": "2025-03-03T20:14:03.342403Z",
     "start_time": "2025-03-03T20:14:03.338858Z"
    }
   },
   "cell_type": "code",
   "source": [
    "x= [1,2,3]\n",
    "y = x.append([4,5,6])"
   ],
   "id": "d9179ad71d4b2c91",
   "outputs": [],
   "execution_count": 43
  },
  {
   "metadata": {
    "ExecuteTime": {
     "end_time": "2025-03-03T20:14:07.913744Z",
     "start_time": "2025-03-03T20:14:07.910780Z"
    }
   },
   "cell_type": "code",
   "source": "",
   "id": "4e44327101481920",
   "outputs": [],
   "execution_count": 45
  },
  {
   "metadata": {},
   "cell_type": "code",
   "outputs": [],
   "execution_count": null,
   "source": "",
   "id": "4c58d7d4cd2767c2"
  }
 ],
 "metadata": {
  "kernelspec": {
   "display_name": "hometesting3.11",
   "language": "python",
   "name": "hometesting"
  },
  "language_info": {
   "codemirror_mode": {
    "name": "ipython",
    "version": 2
   },
   "file_extension": ".py",
   "mimetype": "text/x-python",
   "name": "python",
   "nbconvert_exporter": "python",
   "pygments_lexer": "ipython2",
   "version": "2.7.6"
  }
 },
 "nbformat": 4,
 "nbformat_minor": 5
}
