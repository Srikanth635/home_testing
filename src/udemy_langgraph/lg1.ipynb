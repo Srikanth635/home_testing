{
 "cells": [
  {
   "cell_type": "code",
   "id": "initial_id",
   "metadata": {
    "collapsed": true,
    "ExecuteTime": {
     "end_time": "2025-03-02T21:03:25.489782Z",
     "start_time": "2025-03-02T21:03:25.483991Z"
    }
   },
   "source": [
    "from http.client import responses\n",
    "\n",
    "from langgraph.graph import StateGraph\n",
    "from typing import Annotated\n",
    "from typing_extensions import TypedDict\n",
    "from langgraph.graph.message import add_messages\n",
    "from langchain_openai import ChatOpenAI"
   ],
   "outputs": [],
   "execution_count": 2
  },
  {
   "metadata": {
    "ExecuteTime": {
     "end_time": "2025-03-02T21:08:21.917258Z",
     "start_time": "2025-03-02T21:08:21.672034Z"
    }
   },
   "cell_type": "code",
   "source": "from langgraph.prebuilt import Tool",
   "id": "de879b076a17edd6",
   "outputs": [
    {
     "ename": "ImportError",
     "evalue": "cannot import name 'ChatOpenAI' from 'langgraph.prebuilt' (unknown location)",
     "output_type": "error",
     "traceback": [
      "\u001B[31m---------------------------------------------------------------------------\u001B[39m",
      "\u001B[31mImportError\u001B[39m                               Traceback (most recent call last)",
      "\u001B[36mCell\u001B[39m\u001B[36m \u001B[39m\u001B[32mIn[3]\u001B[39m\u001B[32m, line 1\u001B[39m\n\u001B[32m----> \u001B[39m\u001B[32m1\u001B[39m \u001B[38;5;28;01mfrom\u001B[39;00m\u001B[38;5;250m \u001B[39m\u001B[34;01mlanggraph\u001B[39;00m\u001B[34;01m.\u001B[39;00m\u001B[34;01mprebuilt\u001B[39;00m\u001B[38;5;250m \u001B[39m\u001B[38;5;28;01mimport\u001B[39;00m ChatOpenAI\n",
      "\u001B[31mImportError\u001B[39m: cannot import name 'ChatOpenAI' from 'langgraph.prebuilt' (unknown location)"
     ]
    }
   ],
   "execution_count": 3
  },
  {
   "metadata": {
    "ExecuteTime": {
     "end_time": "2025-03-02T20:20:08.858371Z",
     "start_time": "2025-03-02T20:20:08.852945Z"
    }
   },
   "cell_type": "code",
   "source": [
    "from dotenv import load_dotenv, find_dotenv\n",
    "load_dotenv(find_dotenv(),override=True)"
   ],
   "id": "2ce95e8511a98beb",
   "outputs": [
    {
     "data": {
      "text/plain": [
       "True"
      ]
     },
     "execution_count": 9,
     "metadata": {},
     "output_type": "execute_result"
    }
   ],
   "execution_count": 9
  },
  {
   "metadata": {
    "ExecuteTime": {
     "end_time": "2025-03-02T20:00:57.120100Z",
     "start_time": "2025-03-02T20:00:56.613622Z"
    }
   },
   "cell_type": "code",
   "source": [
    "class State(TypedDict):\n",
    "    messages: Annotated[list, add_messages]\n",
    "\n",
    "graph_builder = StateGraph(State)\n",
    "\n",
    "llm = ChatOpenAI(model=\"gpt-4o-mini\", temperature=0.5)\n",
    "\n",
    "def chatbot(state : State):\n",
    "    return {\"messages\" : [llm.invoke(state[\"messages\"])]}\n",
    "\n",
    "graph_builder.add_node(\"chatbot\", chatbot)\n",
    "graph_builder.set_entry_point(\"chatbot\")\n",
    "graph_builder.set_finish_point(\"chatbot\")\n",
    "\n",
    "graph = graph_builder.compile()"
   ],
   "id": "8030befbf8762b60",
   "outputs": [],
   "execution_count": 3
  },
  {
   "metadata": {
    "ExecuteTime": {
     "end_time": "2025-03-02T20:05:22.310252Z",
     "start_time": "2025-03-02T20:05:21.902984Z"
    }
   },
   "cell_type": "code",
   "source": [
    "from IPython.display import display, Image\n",
    "display(Image(graph.get_graph().draw_mermaid_png()))"
   ],
   "id": "af77c79ee1184302",
   "outputs": [
    {
     "data": {
      "image/png": "[encoded data removed]",
      "text/plain": [
       "<IPython.core.display.Image object>"
      ]
     },
     "metadata": {},
     "output_type": "display_data"
    }
   ],
   "execution_count": 4
  },
  {
   "metadata": {},
   "cell_type": "markdown",
   "source": [
    "To print graph in Ascii install, pip install grandalf\n",
    "\n",
    "> print(graph.get_graph().draw_ascii())"
   ],
   "id": "ad6e3eb453cb9e1f"
  },
  {
   "metadata": {
    "ExecuteTime": {
     "end_time": "2025-03-02T20:12:17.862718Z",
     "start_time": "2025-03-02T20:12:01.726108Z"
    }
   },
   "cell_type": "code",
   "source": [
    "while True:\n",
    "    user_input = input('User: ')\n",
    "    if user_input.lower() in [\"q\", \"quit\", \"exit\", \"bye\"]:\n",
    "        print(\"Goodbye\")\n",
    "        break\n",
    "\n",
    "    for event in graph.stream({'messages' : ('user', user_input)}):\n",
    "        for value in event.values():\n",
    "            print(f\"assistant: {value['messages'][-1].content}\")\n",
    "            print('-' *20)"
   ],
   "id": "f15dd1f20e520dc2",
   "outputs": [
    {
     "name": "stdout",
     "output_type": "stream",
     "text": [
      "assistant: Paris is the capital city of France, known for its rich history, art, fashion, and culture. It is often referred to as \"The City of Light\" (La Ville Lumière) and is famous for landmarks such as the Eiffel Tower, the Louvre Museum, Notre-Dame Cathedral, and the Champs-Élysées. Paris is also renowned for its cuisine, with numerous cafes, bistros, and Michelin-starred restaurants. The city plays a significant role in global fashion and art, hosting numerous events and exhibitions throughout the year. Additionally, Paris is a hub for education and intellectual discourse, home to many prestigious universities and institutions. Would you like to know more about a specific aspect of Paris?\n",
      "--------------------\n",
      "Goodbye\n"
     ]
    }
   ],
   "execution_count": 6
  },
  {
   "metadata": {
    "ExecuteTime": {
     "end_time": "2025-03-02T20:21:56.752862Z",
     "start_time": "2025-03-02T20:21:53.524259Z"
    }
   },
   "cell_type": "code",
   "source": [
    "from tavily import TavilyClient\n",
    "import os\n",
    "\n",
    "client = TavilyClient(api_key=os.environ['TAVILY_API_KEY'])\n",
    "\n",
    "response = client.search(query=\"who won 2024 ipl\")\n",
    "response"
   ],
   "id": "3102f92170b61ce3",
   "outputs": [
    {
     "data": {
      "text/plain": [
       "{'query': 'who won 2024 ipl',\n",
       " 'follow_up_questions': None,\n",
       " 'answer': None,\n",
       " 'images': [],\n",
       " 'results': [{'title': 'Who won IPL 2024? What happened in the final between KKR and SRH?',\n",
       "   'url': 'https://www.sportingnews.com/in/cricket/news/who-won-ipl-final-2024-kkr-srh/2d2abac1a403fa86e6c5afbd',\n",
       "   'content': 'Who won IPL 2024? What happened in the final between KKR and SRH? | Sporting News India IPL IPL EXPLORE IPL NBA TEAMS EXPLORE FOOTBALL Cricket IPL NBA Football IPL Who won IPL 2024? Kolkata Knight Riders (KKR) beat Sunrisers Hyderabad (SRH) by eight wickets in the IPL 2024 Final at the MA Chidambaram Stadium in Chennai to lift a third IPL trophy on Sunday. With this result, KKR are now the third most successful team in the history of the league after Mumbai Indians and Chennai Super Kings who have won it five times each. MORE: Relive all the drama of the 2024 IPL Final here — IndianPremierLeague (@IPL) May 26, 2024 IPL Final 2024 result, score Sporting News',\n",
       "   'score': 0.9322132,\n",
       "   'raw_content': None},\n",
       "  {'title': '2024 Indian Premier League final - Wikipedia',\n",
       "   'url': 'https://en.wikipedia.org/wiki/2024_Indian_Premier_League_final',\n",
       "   'content': 'The Kolkata Knight Riders easily chased the target in 10.3 overs and won the match by eight wickets, thus winning their third IPL title.[4] KKR player Mitchell Starc was named as the player of the match for taking 2 wickets and 2 catches.[5] Sunil Narine (KKR) was named as the player of the season for scoring 488 runs and taking 17 wickets throughout the tournament.[6] ^ a b c \"IPL 2024 final result: Kolkata Knight Riders beat Sunrisers Hyderabad to win title\".',\n",
       "   'score': 0.91795975,\n",
       "   'raw_content': None},\n",
       "  {'title': \"'We've played like invincibles' - Kolkata win IPL - BBC\",\n",
       "   'url': 'https://www.bbc.com/sport/cricket/articles/cd114e2l99qo',\n",
       "   'content': 'IPL 2024 final result: Kolkata Knight Riders beat Sunrisers Hyderabad to win title - BBC Sport Kolkata Knight Riders won the Indian Premier League after a thumping eight-wicket win over Sunrisers Hyderabad in the final. IPL final: KKR thrash Sunrisers to win third title - as it happened When this year\\'s IPL began a little over two months ago, few were predicting that KKR and Sunrisers would be contesting the final. Sunrisers had appointed Cummins captain, his first time skippering a side in T20 cricket, while KKR\\'s decision to pay a record 24.75 crore Indian rupees (£2.3m) for Starc was also being questioned. Player of the match, Kolkata Knight Riders’ Mitchell Starc: \"It is a great night for KKR.',\n",
       "   'score': 0.9094659,\n",
       "   'raw_content': None},\n",
       "  {'title': 'TATA IPL 2024 , Final , KKR Vs SRH - Match Report',\n",
       "   'url': 'https://www.iplt20.com/news/4106/tata-ipl-2024-final-kkr-vs-srh-match-report',\n",
       "   'content': 'Kolkata Knight Riders (KKR) clinched the TATA Indian Premier League (IPL) 2024 title with a dominating all-round performance against Sunrisers Hyderabad (SRH) in the final at the MA Chidambaram Stadium in Chennai. At the same ground in 2012, KKR had clinched their maiden title, and on May 26, 2024, they scripted an encore to lift their third',\n",
       "   'score': 0.90633047,\n",
       "   'raw_content': None},\n",
       "  {'title': 'IPL 2024 Final: KKR crowned champions for 3rd time as SRH implode in ...',\n",
       "   'url': 'https://www.indiatoday.in/sports/cricket/story/ipl-2024-final-kkr-vs-srh-kolkata-3rd-crown-shreyas-iyer-pat-cummins-chennai-2544139-2024-05-26',\n",
       "   'content': 'IPL 2024 Final: KKR crowned champions for 3rd time as SRH implode in one-sided title match - India Today NewsSportsCricketIPLRuthless KKR win 3rd IPL title after SRH implode in one-sided final IPL Final: KKR crowned champions for 3rd time as SRH implode in one-sided title match IPL 2024 Final, KKR vs SRH: The Knight Riders won their third title after hammering SunRisers in the most one-sided final in the history of the tournament. Vaibhav Arora struck in the powerplay, getting the most important wicket of Travis Head, who had hit a match-winning hundred in the last major tournament final he played in India -- the ODI World Cup. Harshit Rana, one of the finds of the IPL, picked up 2 wickets and gave away just 24 runs in four overs.',\n",
       "   'score': 0.87348515,\n",
       "   'raw_content': None}],\n",
       " 'response_time': 2.77}"
      ]
     },
     "execution_count": 11,
     "metadata": {},
     "output_type": "execute_result"
    }
   ],
   "execution_count": 11
  },
  {
   "metadata": {
    "ExecuteTime": {
     "end_time": "2025-03-02T20:23:17.002118Z",
     "start_time": "2025-03-02T20:23:16.999235Z"
    }
   },
   "cell_type": "code",
   "source": [
    "for result in response['results']:\n",
    "    print(f'Title: {result[\"title\"]}, URL: {result[\"url\"]}')"
   ],
   "id": "7695ddc6398f5d2",
   "outputs": [
    {
     "name": "stdout",
     "output_type": "stream",
     "text": [
      "Title: Who won IPL 2024? What happened in the final between KKR and SRH?, URL: https://www.sportingnews.com/in/cricket/news/who-won-ipl-final-2024-kkr-srh/2d2abac1a403fa86e6c5afbd\n",
      "Title: 2024 Indian Premier League final - Wikipedia, URL: https://en.wikipedia.org/wiki/2024_Indian_Premier_League_final\n",
      "Title: 'We've played like invincibles' - Kolkata win IPL - BBC, URL: https://www.bbc.com/sport/cricket/articles/cd114e2l99qo\n",
      "Title: TATA IPL 2024 , Final , KKR Vs SRH - Match Report, URL: https://www.iplt20.com/news/4106/tata-ipl-2024-final-kkr-vs-srh-match-report\n",
      "Title: IPL 2024 Final: KKR crowned champions for 3rd time as SRH implode in ..., URL: https://www.indiatoday.in/sports/cricket/story/ipl-2024-final-kkr-vs-srh-kolkata-3rd-crown-shreyas-iyer-pat-cummins-chennai-2544139-2024-05-26\n"
     ]
    }
   ],
   "execution_count": 12
  },
  {
   "metadata": {
    "ExecuteTime": {
     "end_time": "2025-03-02T20:24:42.280911Z",
     "start_time": "2025-03-02T20:24:38.348101Z"
    }
   },
   "cell_type": "code",
   "source": [
    "response = client.search(\n",
    "    query=\"who won 2024 ipl\",\n",
    "    search_depth='advanced',\n",
    "    max_results=7,\n",
    "    include_images=True,\n",
    "    include_answer=True,\n",
    "    include_raw_content=False\n",
    ")\n",
    "response"
   ],
   "id": "61fc1bffa5b46089",
   "outputs": [
    {
     "data": {
      "text/plain": [
       "{'query': 'who won 2024 ipl',\n",
       " 'follow_up_questions': None,\n",
       " 'answer': 'The Kolkata Knight Riders won the 2024 IPL by defeating the Sunrisers Hyderabad in the final.',\n",
       " 'images': ['https://tse-mm.bing.com/th?q=2024+ipl+winner+final+time+android',\n",
       "  'https://tse-mm.bing.com/th?q=2024+ipl+winner+final+time+show',\n",
       "  'https://statico.sportskeeda.com/editor/2025/02/ec101-17407642472000-1920.jpg',\n",
       "  'https://akm-img-a-in.tosshub.com/indiatoday/images/story/202405/ishant-sharma-140145588-16x9_0.jpg?VersionId=xDxHOHWdt2lOJVN59ZhlDbT9e_uxaM74&size=690:388',\n",
       "  'https://tse1.mm.bing.net/th?q=2024+Ipl+Winner&w=1280&h=720&c=5&rs=1&p=0'],\n",
       " 'results': [{'url': 'https://en.wikipedia.org/wiki/2024_Indian_Premier_League_final',\n",
       "   'title': '2024 Indian Premier League final - Wikipedia',\n",
       "   'content': 'The Kolkata Knight Riders easily chased the target in 10.3 overs and won the match by eight wickets, thus winning their third IPL title.[4] KKR player Mitchell Starc was named as the player of the match for taking 2 wickets and 2 catches.[5] Sunil Narine (KKR) was named as the player of the season for scoring 488 runs and taking 17 wickets throughout the tournament.[6] ^ a b c \"IPL 2024 final result: Kolkata Knight Riders beat Sunrisers Hyderabad to win title\".',\n",
       "   'score': 0.91795975,\n",
       "   'raw_content': None},\n",
       "  {'url': 'https://www.bbc.com/sport/cricket/articles/cd114e2l99qo',\n",
       "   'title': \"'We've played like invincibles' - Kolkata win IPL - BBC\",\n",
       "   'content': 'IPL 2024 final result: Kolkata Knight Riders beat Sunrisers Hyderabad to win title - BBC Sport Kolkata Knight Riders won the Indian Premier League after a thumping eight-wicket win over Sunrisers Hyderabad in the final. IPL final: KKR thrash Sunrisers to win third title - as it happened When this year\\'s IPL began a little over two months ago, few were predicting that KKR and Sunrisers would be contesting the final. Sunrisers had appointed Cummins captain, his first time skippering a side in T20 cricket, while KKR\\'s decision to pay a record 24.75 crore Indian rupees (£2.3m) for Starc was also being questioned. Player of the match, Kolkata Knight Riders’ Mitchell Starc: \"It is a great night for KKR.',\n",
       "   'score': 0.9094659,\n",
       "   'raw_content': None},\n",
       "  {'url': 'https://currentaffairs.adda247.com/ipl-winners-list/',\n",
       "   'title': 'IPL Winners List from 2008 to 2025: Full List of Champions & Key Stats',\n",
       "   'content': 'The Kolkata Knight Riders (KKR) clinched the IPL 2024 title, marking their third IPL championship win. They defeated the Sunrisers Hyderabad',\n",
       "   'score': 0.902687,\n",
       "   'raw_content': None},\n",
       "  {'url': 'https://www.iplt20.com/news/4106/tata-ipl-2024-final-kkr-vs-srh-match-report',\n",
       "   'title': 'TATA IPL 2024 , Final , KKR Vs SRH - Match Report',\n",
       "   'content': 'Kolkata Knight Riders (KKR) clinched the TATA Indian Premier League (IPL) 2024 title with a dominating all-round performance against Sunrisers Hyderabad (SRH)',\n",
       "   'score': 0.8952393,\n",
       "   'raw_content': None},\n",
       "  {'url': 'https://www.espncricinfo.com/series/indian-premier-league-2024-1410320',\n",
       "   'title': 'IPL | 2024 Indian Premier League | Live Score, Schedule, News',\n",
       "   'content': 'IPL | 2024 Indian Premier League | Live Score, Schedule, News RESULT • 3rd ODI • Ahmedabad IND 356 ENG (34.2/50 ov, T:357) 214 India won by 142 runs RESULT • 3rd Match • Tri-Nation • ODI • Karachi SA 352/5 PAK (49/50 ov, T:353) 355/4 Pakistan won by 6 wickets (with 6 balls remaining) RESULT • 51st Match • WCL 2 • ODI • Al Amerat USA 151 OMA (45.5/50 ov, T:152) 152/3 Oman won by 7 wickets (with 25 balls remaining) KKR won by 8 wickets (with 57 balls remaining) RR won by 4 wickets (with 6 balls remaining) KKR won by 8 wickets (with 38 balls remaining) PBKS won by 5 wickets (with 7 balls remaining)',\n",
       "   'score': 0.87348515,\n",
       "   'raw_content': None},\n",
       "  {'url': 'https://www.iplt20.com/video/58650',\n",
       "   'title': 'IPL 2024 winning Moment: When KKR lifted 3rd title',\n",
       "   'content': \"Related Videos · In conversation with IPL 2024 Winning Captain Shreyas Iyer · 27 May, 2024| 173.3k. 01:00 mins. Copy. img. Rinku Singh - God's\",\n",
       "   'score': 0.8568246,\n",
       "   'raw_content': None},\n",
       "  {'url': 'https://crictoday.com/cricket/ipl-winners-list-from-2008-to-2024/',\n",
       "   'title': 'IPL Winners List from 2008 to 2024, Won IPL Final - Crictoday',\n",
       "   'content': 'IPL Winners List from 2008 to 2024, Won IPL Final ; Rajasthan Royals 164/7 (20 overs), RR won by 3 wickets, Chennai Super Kings 163/5 (20 overs)',\n",
       "   'score': 0.85567063,\n",
       "   'raw_content': None}],\n",
       " 'response_time': 3.47}"
      ]
     },
     "execution_count": 13,
     "metadata": {},
     "output_type": "execute_result"
    }
   ],
   "execution_count": 13
  },
  {
   "metadata": {
    "ExecuteTime": {
     "end_time": "2025-03-02T20:25:24.338157Z",
     "start_time": "2025-03-02T20:25:22.021473Z"
    }
   },
   "cell_type": "code",
   "source": [
    "answer = client.qna_search(query=\"who won 2024 ipl\")\n",
    "answer"
   ],
   "id": "e9fcd0368cd82b90",
   "outputs": [
    {
     "data": {
      "text/plain": [
       "'The Kolkata Knight Riders won the 2024 IPL by defeating the Sunrisers Hyderabad in the final.'"
      ]
     },
     "execution_count": 14,
     "metadata": {},
     "output_type": "execute_result"
    }
   ],
   "execution_count": 14
  },
  {
   "metadata": {
    "ExecuteTime": {
     "end_time": "2025-03-02T20:27:15.488990Z",
     "start_time": "2025-03-02T20:27:13.199617Z"
    }
   },
   "cell_type": "code",
   "source": [
    "from langchain.adapters.openai import convert_openai_messages\n",
    "from langchain_openai import ChatOpenAI\n",
    "\n",
    "query = \"who won 2024 ipl\"\n",
    "\n",
    "response = client.search(query=query, max_results=5, search_depth='advanced')['results']\n",
    "response"
   ],
   "id": "9de0a89c669ba8ff",
   "outputs": [
    {
     "data": {
      "text/plain": [
       "[{'url': 'https://en.wikipedia.org/wiki/2024_Indian_Premier_League_final',\n",
       "  'title': '2024 Indian Premier League final - Wikipedia',\n",
       "  'content': 'The Kolkata Knight Riders easily chased the target in 10.3 overs and won the match by eight wickets, thus winning their third IPL title.[4] KKR player Mitchell Starc was named as the player of the match for taking 2 wickets and 2 catches.[5] Sunil Narine (KKR) was named as the player of the season for scoring 488 runs and taking 17 wickets throughout the tournament.[6] ^ a b c \"IPL 2024 final result: Kolkata Knight Riders beat Sunrisers Hyderabad to win title\".',\n",
       "  'score': 0.91795975,\n",
       "  'raw_content': None},\n",
       " {'url': 'https://www.bbc.com/sport/cricket/articles/cd114e2l99qo',\n",
       "  'title': \"'We've played like invincibles' - Kolkata win IPL - BBC\",\n",
       "  'content': 'IPL 2024 final result: Kolkata Knight Riders beat Sunrisers Hyderabad to win title - BBC Sport Kolkata Knight Riders won the Indian Premier League after a thumping eight-wicket win over Sunrisers Hyderabad in the final. IPL final: KKR thrash Sunrisers to win third title - as it happened When this year\\'s IPL began a little over two months ago, few were predicting that KKR and Sunrisers would be contesting the final. Sunrisers had appointed Cummins captain, his first time skippering a side in T20 cricket, while KKR\\'s decision to pay a record 24.75 crore Indian rupees (£2.3m) for Starc was also being questioned. Player of the match, Kolkata Knight Riders’ Mitchell Starc: \"It is a great night for KKR.',\n",
       "  'score': 0.9094659,\n",
       "  'raw_content': None},\n",
       " {'url': 'https://www.iplt20.com/news/4106/tata-ipl-2024-final-kkr-vs-srh-match-report',\n",
       "  'title': 'TATA IPL 2024 , Final , KKR Vs SRH - Match Report',\n",
       "  'content': 'Kolkata Knight Riders (KKR) clinched the TATA Indian Premier League (IPL) 2024 title with a dominating all-round performance against Sunrisers Hyderabad (SRH)',\n",
       "  'score': 0.8952393,\n",
       "  'raw_content': None},\n",
       " {'url': 'https://www.espncricinfo.com/series/indian-premier-league-2024-1410320',\n",
       "  'title': 'IPL | 2024 Indian Premier League | Live Score, Schedule, News',\n",
       "  'content': 'IPL | 2024 Indian Premier League | Live Score, Schedule, News RESULT • 3rd ODI • Ahmedabad IND 356 ENG (34.2/50 ov, T:357) 214 India won by 142 runs RESULT • 3rd Match • Tri-Nation • ODI • Karachi SA 352/5 PAK (49/50 ov, T:353) 355/4 Pakistan won by 6 wickets (with 6 balls remaining) RESULT • 51st Match • WCL 2 • ODI • Al Amerat USA 151 OMA (45.5/50 ov, T:152) 152/3 Oman won by 7 wickets (with 25 balls remaining) KKR won by 8 wickets (with 57 balls remaining) RR won by 4 wickets (with 6 balls remaining) KKR won by 8 wickets (with 38 balls remaining) PBKS won by 5 wickets (with 7 balls remaining)',\n",
       "  'score': 0.87348515,\n",
       "  'raw_content': None},\n",
       " {'url': 'https://www.iplt20.com/video/58650',\n",
       "  'title': 'IPL 2024 winning Moment: When KKR lifted 3rd title',\n",
       "  'content': \"Related Videos · In conversation with IPL 2024 Winning Captain Shreyas Iyer · 27 May, 2024| 173.3k. 01:00 mins. Copy. img. Rinku Singh - God's\",\n",
       "  'score': 0.8568246,\n",
       "  'raw_content': None}]"
      ]
     },
     "execution_count": 15,
     "metadata": {},
     "output_type": "execute_result"
    }
   ],
   "execution_count": 15
  },
  {
   "metadata": {
    "ExecuteTime": {
     "end_time": "2025-03-02T20:30:27.379296Z",
     "start_time": "2025-03-02T20:30:27.372324Z"
    }
   },
   "cell_type": "code",
   "source": [
    "prompt = [\n",
    "    {\n",
    "        'role': 'system',\n",
    "        'content': f'you are an AI critical thinker research assitant.'\n",
    "                   f'your sole puprose is to write a well written, objective and structred reports on given text.'\n",
    "    },\n",
    "    {\n",
    "        'role': 'user',\\\n",
    "        'content':f'Information {response}'\n",
    "                  f'Using the above information, answer the following query: {query} in a detailed report'\n",
    "    }\n",
    "]\n",
    "\n",
    "lc_messages = convert_openai_messages(prompt)\n",
    "lc_messages"
   ],
   "id": "7836be6c218abdf",
   "outputs": [
    {
     "data": {
      "text/plain": [
       "[SystemMessage(content='you are an AI critical thinker research assitant.your sole puprose is to write a well written, objective and structred reports on given text.', additional_kwargs={}, response_metadata={}),\n",
       " HumanMessage(content='Information [{\\'url\\': \\'https://en.wikipedia.org/wiki/2024_Indian_Premier_League_final\\', \\'title\\': \\'2024 Indian Premier League final - Wikipedia\\', \\'content\\': \\'The Kolkata Knight Riders easily chased the target in 10.3 overs and won the match by eight wickets, thus winning their third IPL title.[4] KKR player Mitchell Starc was named as the player of the match for taking 2 wickets and 2 catches.[5] Sunil Narine (KKR) was named as the player of the season for scoring 488 runs and taking 17 wickets throughout the tournament.[6] ^ a b c \"IPL 2024 final result: Kolkata Knight Riders beat Sunrisers Hyderabad to win title\".\\', \\'score\\': 0.91795975, \\'raw_content\\': None}, {\\'url\\': \\'https://www.bbc.com/sport/cricket/articles/cd114e2l99qo\\', \\'title\\': \"\\'We\\'ve played like invincibles\\' - Kolkata win IPL - BBC\", \\'content\\': \\'IPL 2024 final result: Kolkata Knight Riders beat Sunrisers Hyderabad to win title - BBC Sport Kolkata Knight Riders won the Indian Premier League after a thumping eight-wicket win over Sunrisers Hyderabad in the final. IPL final: KKR thrash Sunrisers to win third title - as it happened When this year\\\\\\'s IPL began a little over two months ago, few were predicting that KKR and Sunrisers would be contesting the final. Sunrisers had appointed Cummins captain, his first time skippering a side in T20 cricket, while KKR\\\\\\'s decision to pay a record 24.75 crore Indian rupees (£2.3m) for Starc was also being questioned. Player of the match, Kolkata Knight Riders’ Mitchell Starc: \"It is a great night for KKR.\\', \\'score\\': 0.9094659, \\'raw_content\\': None}, {\\'url\\': \\'https://www.iplt20.com/news/4106/tata-ipl-2024-final-kkr-vs-srh-match-report\\', \\'title\\': \\'TATA IPL 2024 , Final , KKR Vs SRH - Match Report\\', \\'content\\': \\'Kolkata Knight Riders (KKR) clinched the TATA Indian Premier League (IPL) 2024 title with a dominating all-round performance against Sunrisers Hyderabad (SRH)\\', \\'score\\': 0.8952393, \\'raw_content\\': None}, {\\'url\\': \\'https://www.espncricinfo.com/series/indian-premier-league-2024-1410320\\', \\'title\\': \\'IPL | 2024 Indian Premier League | Live Score, Schedule, News\\', \\'content\\': \\'IPL | 2024 Indian Premier League | Live Score, Schedule, News RESULT • 3rd ODI • Ahmedabad IND 356 ENG (34.2/50 ov, T:357) 214 India won by 142 runs RESULT • 3rd Match • Tri-Nation • ODI • Karachi SA 352/5 PAK (49/50 ov, T:353) 355/4 Pakistan won by 6 wickets (with 6 balls remaining) RESULT • 51st Match • WCL 2 • ODI • Al Amerat USA 151 OMA (45.5/50 ov, T:152) 152/3 Oman won by 7 wickets (with 25 balls remaining) KKR won by 8 wickets (with 57 balls remaining) RR won by 4 wickets (with 6 balls remaining) KKR won by 8 wickets (with 38 balls remaining) PBKS won by 5 wickets (with 7 balls remaining)\\', \\'score\\': 0.87348515, \\'raw_content\\': None}, {\\'url\\': \\'https://www.iplt20.com/video/58650\\', \\'title\\': \\'IPL 2024 winning Moment: When KKR lifted 3rd title\\', \\'content\\': \"Related Videos · In conversation with IPL 2024 Winning Captain Shreyas Iyer · 27 May, 2024| 173.3k. 01:00 mins. Copy. img. Rinku Singh - God\\'s\", \\'score\\': 0.8568246, \\'raw_content\\': None}]Using the above information, answer the following query: who won 2024 ipl in a detailed report', additional_kwargs={}, response_metadata={})]"
      ]
     },
     "execution_count": 16,
     "metadata": {},
     "output_type": "execute_result"
    }
   ],
   "execution_count": 16
  },
  {
   "metadata": {
    "ExecuteTime": {
     "end_time": "2025-03-02T20:31:04.038801Z",
     "start_time": "2025-03-02T20:30:55.524716Z"
    }
   },
   "cell_type": "code",
   "source": [
    "response = ChatOpenAI(model=\"gpt-4o-mini\", temperature=0.5).invoke(lc_messages)\n",
    "print(response.content)"
   ],
   "id": "c0f000d6bf018c77",
   "outputs": [
    {
     "name": "stdout",
     "output_type": "stream",
     "text": [
      "### Report on the 2024 Indian Premier League Final\n",
      "\n",
      "#### Overview\n",
      "The 2024 Indian Premier League (IPL) final, held on May 27, 2024, culminated in a significant victory for the Kolkata Knight Riders (KKR), who defeated the Sunrisers Hyderabad (SRH) by eight wickets. This victory marked KKR's third IPL title, showcasing their dominance in the tournament.\n",
      "\n",
      "#### Match Summary\n",
      "- **Final Match Result**: Kolkata Knight Riders won by 8 wickets.\n",
      "- **Opponent**: Sunrisers Hyderabad.\n",
      "- **Match Duration**: KKR chased their target in just 10.3 overs, demonstrating an aggressive and effective batting performance.\n",
      "\n",
      "#### Key Performers\n",
      "- **Player of the Match**: Mitchell Starc (KKR)\n",
      "  - Achievements: \n",
      "    - Took 2 wickets.\n",
      "    - Made 2 catches.\n",
      "- **Player of the Season**: Sunil Narine (KKR)\n",
      "  - Achievements:\n",
      "    - Scored a total of 488 runs throughout the tournament.\n",
      "    - Took 17 wickets, contributing significantly to KKR’s success over the season.\n",
      "\n",
      "#### Context and Background\n",
      "Before the final, the tournament had seen surprising developments. The KKR team had faced skepticism regarding their investments, particularly the record bid of 24.75 crore Indian rupees (approximately £2.3 million) for Mitchell Starc. Additionally, the Sunrisers Hyderabad appointed Pat Cummins as their captain, marking his debut as a skipper in T20 cricket. The final matchup was unexpected, as neither team was heavily favored at the tournament's outset.\n",
      "\n",
      "#### Quotes and Reactions\n",
      "Mitchell Starc expressed his delight after the match, stating, \"It is a great night for KKR,\" reflecting the team's morale and the significance of the victory in the context of their franchise history.\n",
      "\n",
      "#### Conclusion\n",
      "The 2024 IPL final was a showcase of KKR's prowess and strategic gameplay, culminating in a decisive win over SRH. The performance of players like Mitchell Starc and Sunil Narine was pivotal in securing this championship, reinforcing KKR's status as a formidable team in the Indian Premier League. This victory not only adds to their trophy cabinet but also sets a precedent for future seasons, highlighting their potential for continued success in T20 cricket.\n"
     ]
    }
   ],
   "execution_count": 17
  },
  {
   "metadata": {},
   "cell_type": "markdown",
   "source": "### Tools",
   "id": "3732957fbff3f1d3"
  },
  {
   "metadata": {
    "ExecuteTime": {
     "end_time": "2025-03-02T20:20:11.658550Z",
     "start_time": "2025-03-02T20:20:11.654993Z"
    }
   },
   "cell_type": "code",
   "source": [
    "from langchain_community.tools.tavily_search import TavilySearchResults\n",
    "tool = TavilySearchResults(max_results=5)\n",
    "tools = [tool]"
   ],
   "id": "5cbcd9c47194c050",
   "outputs": [],
   "execution_count": 10
  },
  {
   "metadata": {
    "ExecuteTime": {
     "end_time": "2025-03-02T20:33:42.706189Z",
     "start_time": "2025-03-02T20:33:40.764509Z"
    }
   },
   "cell_type": "code",
   "source": [
    "response = tool.invoke('what is gpt4.5')\n",
    "response"
   ],
   "id": "aa57d35aaa49559e",
   "outputs": [
    {
     "data": {
      "text/plain": [
       "[{'url': 'https://venturebeat.com/ai/openai-releases-gpt-4-5/',\n",
       "  'content': 'It’s here: OpenAI has announced the release of GPT-4.5, a research preview of its latest and most powerful large language model (LLM) for chat applications. During the livestream, OpenAI researchers noted how it was trained on data generated by smaller AI models and that this improved its “world model.” They also stated it was pre-trained across multiple data centers concurrently, suggesting a decentralized approach similar to that of rival lab Nous Research. At the same time, the pricing for GPT-4.5 through OpenAI’s API for third-party developers looking to build applications on the model appears shockingly high, at $75/$180 per million input/output tokens compared to $2.50/$10 for GPT-4o. As AI continues to evolve, GPT-4.5 marks another milestone in OpenAI’s pursuit of more capable, reliable, and user-aligned language models, promising new opportunities for innovation in the enterprise landscape.'},\n",
       " {'url': 'https://openai.com/index/introducing-gpt-4-5/',\n",
       "  'content': 'GPT‑4.5 doesn’t think before it responds, which makes its strengths particularly different from reasoning models like OpenAI o1. As models like GPT‑4.5 become smarter and more knowledgeable through pre-training, they will serve as an even stronger foundation for reasoning and tool-using agents. GPT‑4.5 was trained with new techniques for supervision that are combined with traditional supervised fine-tuning (SFT) and reinforcement learning from human feedback (RLHF) methods like those used for GPT‑4o. Based on early testing, developers may find GPT‑4.5 particularly useful for applications that benefit from its higher emotional intelligence and creativity—such as writing help, communication, learning, coaching, and brainstorming. Even by purely scaling up unsupervised learning, GPT‑4.5 shows meaningful improvements over previous models like GPT‑4o.'},\n",
       " {'url': 'https://www.datacamp.com/blog/gpt-4-5',\n",
       "  'content': 'Learn how ChatGPT 4.5 from OpenAI excels in conversational abilities and accuracy compared to o1 and GPT-4o, but may not be as strong in complex reasoning tasks. Unlike the o-series models, which rely on chain-of-thought (CoT) reasoning to break down complex problems step by step, GPT-4.5 leans on unsupervised learning, meaning it generates responses based on language intuition rather than structured logic. Similar to previous models, access to GPT-4.5 will likely be available through OpenAI’s API and ChatGPT Pro. The model will be available for teams, plus, and enterprise users in the upcoming weeks. Learn about OpenAI’s GPT-4o, a multimodal AI model that processes text, audio, and visual data, and discover how it compares with GPT-4 Turbo for various use cases.'},\n",
       " {'url': 'https://www.theverge.com/news/620021/openai-gpt-4-5-orion-ai-model-release',\n",
       "  'content': 'OpenAI announces GPT-4.5, warns it’s not a frontier AI model | The Verge OpenAI announces GPT-4.5, warns it’s not a frontier AI model OpenAI announces GPT-4.5, warns it’s not a frontier AI model OpenAI is calling the release its “most knowledgeable model yet,” but it’s warning that GPT-4.5 is not a frontier model and might not perform as well as o1 or o3-mini. We revealed in Notepad last week that OpenAI was planning to launch GPT-4.5 by the end of February, and GPT-5 as soon as late May. OpenAI CEO Sam Altman has referred to GPT-5 as a “system that integrates a lot of our technology,” and it will include OpenAI’s new o3 reasoning model, which the company teased during its 12 days of Christmas announcements in December.'},\n",
       " {'url': 'https://medium.com/data-science-in-your-pocket/openai-gpt4-5-its-bad-37545bd77194',\n",
       "  'content': \"Don't pay for OpenAI GPT4.5 | by Mehul Gupta | Data Science in your pocket | Feb, 2025 | Medium Lagging in Specific Domains: In standard science and math benchmarks, GPT-4.5 scores worse than some of OpenAI’s own reasoning models, such as o3. High Costs for Limited Gains: The substantial increase in the API costs for GPT-4.5, making it 2900% more expensive for input and 1300% dearer for output compared to its predecessor GPT-4o, has led to concerns among users. Let us compare this SOTA model with GPT4.5 in terms of benchmarking, cost, and other matrices. Cost: GPT-4.5 is significantly more expensive than Claude 3.7 Sonnet, making it less accessible for many users. GPT-4.5 despite the hype, offers only marginal performance improvements over previous models, particularly in critical reasoning tasks.\"}]"
      ]
     },
     "execution_count": 18,
     "metadata": {},
     "output_type": "execute_result"
    }
   ],
   "execution_count": 18
  },
  {
   "metadata": {
    "ExecuteTime": {
     "end_time": "2025-03-02T20:46:39.500598Z",
     "start_time": "2025-03-02T20:46:39.490595Z"
    }
   },
   "cell_type": "code",
   "source": "llm.bind_tools(tools)",
   "id": "b0090849352f7476",
   "outputs": [
    {
     "data": {
      "text/plain": [
       "RunnableBinding(bound=ChatOpenAI(client=<openai.resources.chat.completions.completions.Completions object at 0x0000022BBEF70410>, async_client=<openai.resources.chat.completions.completions.AsyncCompletions object at 0x0000022BBEF73380>, root_client=<openai.OpenAI object at 0x0000022BBEC8D250>, root_async_client=<openai.AsyncOpenAI object at 0x0000022BBEF70470>, model_name='gpt-4o-mini', temperature=0.5, model_kwargs={}, openai_api_key=SecretStr('**********')), kwargs={'tools': [{'type': 'function', 'function': {'name': 'tavily_search_results_json', 'description': 'A search engine optimized for comprehensive, accurate, and trusted results. Useful for when you need to answer questions about current events. Input should be a search query.', 'parameters': {'properties': {'query': {'description': 'search query to look up', 'type': 'string'}}, 'required': ['query'], 'type': 'object'}}}]}, config={}, config_factories=[])"
      ]
     },
     "execution_count": 19,
     "metadata": {},
     "output_type": "execute_result"
    }
   ],
   "execution_count": 19
  },
  {
   "metadata": {
    "ExecuteTime": {
     "end_time": "2025-03-02T20:50:07.113416Z",
     "start_time": "2025-03-02T20:50:07.104408Z"
    }
   },
   "cell_type": "code",
   "source": [
    "import json\n",
    "\n",
    "from langchain_core.messages import ToolMessage\n",
    "\n",
    "\n",
    "class BasicToolNode:\n",
    "    \"\"\"A node that runs the tools requested in the last AIMessage.\"\"\"\n",
    "\n",
    "    def __init__(self, tools: list) -> None:\n",
    "        self.tools_by_name = {tool.name: tool for tool in tools}\n",
    "\n",
    "    def __call__(self, inputs: dict):\n",
    "        if messages := inputs.get(\"messages\", []):\n",
    "            message = messages[-1]\n",
    "        else:\n",
    "            raise ValueError(\"No message found in input\")\n",
    "        outputs = []\n",
    "        for tool_call in message.tool_calls:\n",
    "            tool_result = self.tools_by_name[tool_call[\"name\"]].invoke(\n",
    "                tool_call[\"args\"]\n",
    "            )\n",
    "            outputs.append(\n",
    "                ToolMessage(\n",
    "                    content=json.dumps(tool_result),\n",
    "                    name=tool_call[\"name\"],\n",
    "                    tool_call_id=tool_call[\"id\"],\n",
    "                )\n",
    "            )\n",
    "        return {\"messages\": outputs}\n",
    "\n",
    "\n",
    "tool_node = BasicToolNode(tools=[tool])\n",
    "graph_builder.add_node(\"tools\", tool_node)"
   ],
   "id": "3baf55bb61c6b090",
   "outputs": [
    {
     "name": "stderr",
     "output_type": "stream",
     "text": [
      "Adding a node to a graph that has already been compiled. This will not be reflected in the compiled graph.\n"
     ]
    },
    {
     "data": {
      "text/plain": [
       "<langgraph.graph.state.StateGraph at 0x22bbeeb97f0>"
      ]
     },
     "execution_count": 20,
     "metadata": {},
     "output_type": "execute_result"
    }
   ],
   "execution_count": 20
  },
  {
   "metadata": {
    "ExecuteTime": {
     "end_time": "2025-03-02T20:50:41.693488Z",
     "start_time": "2025-03-02T20:50:30.809267Z"
    }
   },
   "cell_type": "code",
   "source": "graph_builder.compile()",
   "id": "1429247c5d6d3b9b",
   "outputs": [
    {
     "ename": "ReadTimeout",
     "evalue": "HTTPSConnectionPool(host='mermaid.ink', port=443): Read timed out. (read timeout=10)",
     "output_type": "error",
     "traceback": [
      "\u001B[31m---------------------------------------------------------------------------\u001B[39m",
      "\u001B[31mTimeoutError\u001B[39m                              Traceback (most recent call last)",
      "\u001B[36mFile \u001B[39m\u001B[32m~\\anaconda3\\envs\\RAG\\Lib\\site-packages\\urllib3\\connectionpool.py:536\u001B[39m, in \u001B[36mHTTPConnectionPool._make_request\u001B[39m\u001B[34m(self, conn, method, url, body, headers, retries, timeout, chunked, response_conn, preload_content, decode_content, enforce_content_length)\u001B[39m\n\u001B[32m    535\u001B[39m \u001B[38;5;28;01mtry\u001B[39;00m:\n\u001B[32m--> \u001B[39m\u001B[32m536\u001B[39m     response = \u001B[43mconn\u001B[49m\u001B[43m.\u001B[49m\u001B[43mgetresponse\u001B[49m\u001B[43m(\u001B[49m\u001B[43m)\u001B[49m\n\u001B[32m    537\u001B[39m \u001B[38;5;28;01mexcept\u001B[39;00m (BaseSSLError, \u001B[38;5;167;01mOSError\u001B[39;00m) \u001B[38;5;28;01mas\u001B[39;00m e:\n",
      "\u001B[36mFile \u001B[39m\u001B[32m~\\anaconda3\\envs\\RAG\\Lib\\site-packages\\urllib3\\connection.py:507\u001B[39m, in \u001B[36mHTTPConnection.getresponse\u001B[39m\u001B[34m(self)\u001B[39m\n\u001B[32m    506\u001B[39m \u001B[38;5;66;03m# Get the response from http.client.HTTPConnection\u001B[39;00m\n\u001B[32m--> \u001B[39m\u001B[32m507\u001B[39m httplib_response = \u001B[38;5;28;43msuper\u001B[39;49m\u001B[43m(\u001B[49m\u001B[43m)\u001B[49m\u001B[43m.\u001B[49m\u001B[43mgetresponse\u001B[49m\u001B[43m(\u001B[49m\u001B[43m)\u001B[49m\n\u001B[32m    509\u001B[39m \u001B[38;5;28;01mtry\u001B[39;00m:\n",
      "\u001B[36mFile \u001B[39m\u001B[32m~\\anaconda3\\envs\\RAG\\Lib\\http\\client.py:1428\u001B[39m, in \u001B[36mHTTPConnection.getresponse\u001B[39m\u001B[34m(self)\u001B[39m\n\u001B[32m   1427\u001B[39m \u001B[38;5;28;01mtry\u001B[39;00m:\n\u001B[32m-> \u001B[39m\u001B[32m1428\u001B[39m     \u001B[43mresponse\u001B[49m\u001B[43m.\u001B[49m\u001B[43mbegin\u001B[49m\u001B[43m(\u001B[49m\u001B[43m)\u001B[49m\n\u001B[32m   1429\u001B[39m \u001B[38;5;28;01mexcept\u001B[39;00m \u001B[38;5;167;01mConnectionError\u001B[39;00m:\n",
      "\u001B[36mFile \u001B[39m\u001B[32m~\\anaconda3\\envs\\RAG\\Lib\\http\\client.py:331\u001B[39m, in \u001B[36mHTTPResponse.begin\u001B[39m\u001B[34m(self)\u001B[39m\n\u001B[32m    330\u001B[39m \u001B[38;5;28;01mwhile\u001B[39;00m \u001B[38;5;28;01mTrue\u001B[39;00m:\n\u001B[32m--> \u001B[39m\u001B[32m331\u001B[39m     version, status, reason = \u001B[38;5;28;43mself\u001B[39;49m\u001B[43m.\u001B[49m\u001B[43m_read_status\u001B[49m\u001B[43m(\u001B[49m\u001B[43m)\u001B[49m\n\u001B[32m    332\u001B[39m     \u001B[38;5;28;01mif\u001B[39;00m status != CONTINUE:\n",
      "\u001B[36mFile \u001B[39m\u001B[32m~\\anaconda3\\envs\\RAG\\Lib\\http\\client.py:292\u001B[39m, in \u001B[36mHTTPResponse._read_status\u001B[39m\u001B[34m(self)\u001B[39m\n\u001B[32m    291\u001B[39m \u001B[38;5;28;01mdef\u001B[39;00m\u001B[38;5;250m \u001B[39m\u001B[34m_read_status\u001B[39m(\u001B[38;5;28mself\u001B[39m):\n\u001B[32m--> \u001B[39m\u001B[32m292\u001B[39m     line = \u001B[38;5;28mstr\u001B[39m(\u001B[38;5;28;43mself\u001B[39;49m\u001B[43m.\u001B[49m\u001B[43mfp\u001B[49m\u001B[43m.\u001B[49m\u001B[43mreadline\u001B[49m\u001B[43m(\u001B[49m\u001B[43m_MAXLINE\u001B[49m\u001B[43m \u001B[49m\u001B[43m+\u001B[49m\u001B[43m \u001B[49m\u001B[32;43m1\u001B[39;49m\u001B[43m)\u001B[49m, \u001B[33m\"\u001B[39m\u001B[33miso-8859-1\u001B[39m\u001B[33m\"\u001B[39m)\n\u001B[32m    293\u001B[39m     \u001B[38;5;28;01mif\u001B[39;00m \u001B[38;5;28mlen\u001B[39m(line) > _MAXLINE:\n",
      "\u001B[36mFile \u001B[39m\u001B[32m~\\anaconda3\\envs\\RAG\\Lib\\socket.py:720\u001B[39m, in \u001B[36mSocketIO.readinto\u001B[39m\u001B[34m(self, b)\u001B[39m\n\u001B[32m    719\u001B[39m \u001B[38;5;28;01mtry\u001B[39;00m:\n\u001B[32m--> \u001B[39m\u001B[32m720\u001B[39m     \u001B[38;5;28;01mreturn\u001B[39;00m \u001B[38;5;28;43mself\u001B[39;49m\u001B[43m.\u001B[49m\u001B[43m_sock\u001B[49m\u001B[43m.\u001B[49m\u001B[43mrecv_into\u001B[49m\u001B[43m(\u001B[49m\u001B[43mb\u001B[49m\u001B[43m)\u001B[49m\n\u001B[32m    721\u001B[39m \u001B[38;5;28;01mexcept\u001B[39;00m timeout:\n",
      "\u001B[36mFile \u001B[39m\u001B[32m~\\anaconda3\\envs\\RAG\\Lib\\ssl.py:1251\u001B[39m, in \u001B[36mSSLSocket.recv_into\u001B[39m\u001B[34m(self, buffer, nbytes, flags)\u001B[39m\n\u001B[32m   1248\u001B[39m         \u001B[38;5;28;01mraise\u001B[39;00m \u001B[38;5;167;01mValueError\u001B[39;00m(\n\u001B[32m   1249\u001B[39m           \u001B[33m\"\u001B[39m\u001B[33mnon-zero flags not allowed in calls to recv_into() on \u001B[39m\u001B[38;5;132;01m%s\u001B[39;00m\u001B[33m\"\u001B[39m %\n\u001B[32m   1250\u001B[39m           \u001B[38;5;28mself\u001B[39m.\u001B[34m__class__\u001B[39m)\n\u001B[32m-> \u001B[39m\u001B[32m1251\u001B[39m     \u001B[38;5;28;01mreturn\u001B[39;00m \u001B[38;5;28;43mself\u001B[39;49m\u001B[43m.\u001B[49m\u001B[43mread\u001B[49m\u001B[43m(\u001B[49m\u001B[43mnbytes\u001B[49m\u001B[43m,\u001B[49m\u001B[43m \u001B[49m\u001B[43mbuffer\u001B[49m\u001B[43m)\u001B[49m\n\u001B[32m   1252\u001B[39m \u001B[38;5;28;01melse\u001B[39;00m:\n",
      "\u001B[36mFile \u001B[39m\u001B[32m~\\anaconda3\\envs\\RAG\\Lib\\ssl.py:1103\u001B[39m, in \u001B[36mSSLSocket.read\u001B[39m\u001B[34m(self, len, buffer)\u001B[39m\n\u001B[32m   1102\u001B[39m \u001B[38;5;28;01mif\u001B[39;00m buffer \u001B[38;5;129;01mis\u001B[39;00m \u001B[38;5;129;01mnot\u001B[39;00m \u001B[38;5;28;01mNone\u001B[39;00m:\n\u001B[32m-> \u001B[39m\u001B[32m1103\u001B[39m     \u001B[38;5;28;01mreturn\u001B[39;00m \u001B[38;5;28;43mself\u001B[39;49m\u001B[43m.\u001B[49m\u001B[43m_sslobj\u001B[49m\u001B[43m.\u001B[49m\u001B[43mread\u001B[49m\u001B[43m(\u001B[49m\u001B[38;5;28;43mlen\u001B[39;49m\u001B[43m,\u001B[49m\u001B[43m \u001B[49m\u001B[43mbuffer\u001B[49m\u001B[43m)\u001B[49m\n\u001B[32m   1104\u001B[39m \u001B[38;5;28;01melse\u001B[39;00m:\n",
      "\u001B[31mTimeoutError\u001B[39m: The read operation timed out",
      "\nThe above exception was the direct cause of the following exception:\n",
      "\u001B[31mReadTimeoutError\u001B[39m                          Traceback (most recent call last)",
      "\u001B[36mFile \u001B[39m\u001B[32m~\\anaconda3\\envs\\RAG\\Lib\\site-packages\\requests\\adapters.py:667\u001B[39m, in \u001B[36mHTTPAdapter.send\u001B[39m\u001B[34m(self, request, stream, timeout, verify, cert, proxies)\u001B[39m\n\u001B[32m    666\u001B[39m \u001B[38;5;28;01mtry\u001B[39;00m:\n\u001B[32m--> \u001B[39m\u001B[32m667\u001B[39m     resp = \u001B[43mconn\u001B[49m\u001B[43m.\u001B[49m\u001B[43murlopen\u001B[49m\u001B[43m(\u001B[49m\n\u001B[32m    668\u001B[39m \u001B[43m        \u001B[49m\u001B[43mmethod\u001B[49m\u001B[43m=\u001B[49m\u001B[43mrequest\u001B[49m\u001B[43m.\u001B[49m\u001B[43mmethod\u001B[49m\u001B[43m,\u001B[49m\n\u001B[32m    669\u001B[39m \u001B[43m        \u001B[49m\u001B[43murl\u001B[49m\u001B[43m=\u001B[49m\u001B[43murl\u001B[49m\u001B[43m,\u001B[49m\n\u001B[32m    670\u001B[39m \u001B[43m        \u001B[49m\u001B[43mbody\u001B[49m\u001B[43m=\u001B[49m\u001B[43mrequest\u001B[49m\u001B[43m.\u001B[49m\u001B[43mbody\u001B[49m\u001B[43m,\u001B[49m\n\u001B[32m    671\u001B[39m \u001B[43m        \u001B[49m\u001B[43mheaders\u001B[49m\u001B[43m=\u001B[49m\u001B[43mrequest\u001B[49m\u001B[43m.\u001B[49m\u001B[43mheaders\u001B[49m\u001B[43m,\u001B[49m\n\u001B[32m    672\u001B[39m \u001B[43m        \u001B[49m\u001B[43mredirect\u001B[49m\u001B[43m=\u001B[49m\u001B[38;5;28;43;01mFalse\u001B[39;49;00m\u001B[43m,\u001B[49m\n\u001B[32m    673\u001B[39m \u001B[43m        \u001B[49m\u001B[43massert_same_host\u001B[49m\u001B[43m=\u001B[49m\u001B[38;5;28;43;01mFalse\u001B[39;49;00m\u001B[43m,\u001B[49m\n\u001B[32m    674\u001B[39m \u001B[43m        \u001B[49m\u001B[43mpreload_content\u001B[49m\u001B[43m=\u001B[49m\u001B[38;5;28;43;01mFalse\u001B[39;49;00m\u001B[43m,\u001B[49m\n\u001B[32m    675\u001B[39m \u001B[43m        \u001B[49m\u001B[43mdecode_content\u001B[49m\u001B[43m=\u001B[49m\u001B[38;5;28;43;01mFalse\u001B[39;49;00m\u001B[43m,\u001B[49m\n\u001B[32m    676\u001B[39m \u001B[43m        \u001B[49m\u001B[43mretries\u001B[49m\u001B[43m=\u001B[49m\u001B[38;5;28;43mself\u001B[39;49m\u001B[43m.\u001B[49m\u001B[43mmax_retries\u001B[49m\u001B[43m,\u001B[49m\n\u001B[32m    677\u001B[39m \u001B[43m        \u001B[49m\u001B[43mtimeout\u001B[49m\u001B[43m=\u001B[49m\u001B[43mtimeout\u001B[49m\u001B[43m,\u001B[49m\n\u001B[32m    678\u001B[39m \u001B[43m        \u001B[49m\u001B[43mchunked\u001B[49m\u001B[43m=\u001B[49m\u001B[43mchunked\u001B[49m\u001B[43m,\u001B[49m\n\u001B[32m    679\u001B[39m \u001B[43m    \u001B[49m\u001B[43m)\u001B[49m\n\u001B[32m    681\u001B[39m \u001B[38;5;28;01mexcept\u001B[39;00m (ProtocolError, \u001B[38;5;167;01mOSError\u001B[39;00m) \u001B[38;5;28;01mas\u001B[39;00m err:\n",
      "\u001B[36mFile \u001B[39m\u001B[32m~\\anaconda3\\envs\\RAG\\Lib\\site-packages\\urllib3\\connectionpool.py:843\u001B[39m, in \u001B[36mHTTPConnectionPool.urlopen\u001B[39m\u001B[34m(self, method, url, body, headers, retries, redirect, assert_same_host, timeout, pool_timeout, release_conn, chunked, body_pos, preload_content, decode_content, **response_kw)\u001B[39m\n\u001B[32m    841\u001B[39m     new_e = ProtocolError(\u001B[33m\"\u001B[39m\u001B[33mConnection aborted.\u001B[39m\u001B[33m\"\u001B[39m, new_e)\n\u001B[32m--> \u001B[39m\u001B[32m843\u001B[39m retries = \u001B[43mretries\u001B[49m\u001B[43m.\u001B[49m\u001B[43mincrement\u001B[49m\u001B[43m(\u001B[49m\n\u001B[32m    844\u001B[39m \u001B[43m    \u001B[49m\u001B[43mmethod\u001B[49m\u001B[43m,\u001B[49m\u001B[43m \u001B[49m\u001B[43murl\u001B[49m\u001B[43m,\u001B[49m\u001B[43m \u001B[49m\u001B[43merror\u001B[49m\u001B[43m=\u001B[49m\u001B[43mnew_e\u001B[49m\u001B[43m,\u001B[49m\u001B[43m \u001B[49m\u001B[43m_pool\u001B[49m\u001B[43m=\u001B[49m\u001B[38;5;28;43mself\u001B[39;49m\u001B[43m,\u001B[49m\u001B[43m \u001B[49m\u001B[43m_stacktrace\u001B[49m\u001B[43m=\u001B[49m\u001B[43msys\u001B[49m\u001B[43m.\u001B[49m\u001B[43mexc_info\u001B[49m\u001B[43m(\u001B[49m\u001B[43m)\u001B[49m\u001B[43m[\u001B[49m\u001B[32;43m2\u001B[39;49m\u001B[43m]\u001B[49m\n\u001B[32m    845\u001B[39m \u001B[43m\u001B[49m\u001B[43m)\u001B[49m\n\u001B[32m    846\u001B[39m retries.sleep()\n",
      "\u001B[36mFile \u001B[39m\u001B[32m~\\anaconda3\\envs\\RAG\\Lib\\site-packages\\urllib3\\util\\retry.py:474\u001B[39m, in \u001B[36mRetry.increment\u001B[39m\u001B[34m(self, method, url, response, error, _pool, _stacktrace)\u001B[39m\n\u001B[32m    473\u001B[39m \u001B[38;5;28;01mif\u001B[39;00m read \u001B[38;5;129;01mis\u001B[39;00m \u001B[38;5;28;01mFalse\u001B[39;00m \u001B[38;5;129;01mor\u001B[39;00m method \u001B[38;5;129;01mis\u001B[39;00m \u001B[38;5;28;01mNone\u001B[39;00m \u001B[38;5;129;01mor\u001B[39;00m \u001B[38;5;129;01mnot\u001B[39;00m \u001B[38;5;28mself\u001B[39m._is_method_retryable(method):\n\u001B[32m--> \u001B[39m\u001B[32m474\u001B[39m     \u001B[38;5;28;01mraise\u001B[39;00m \u001B[43mreraise\u001B[49m\u001B[43m(\u001B[49m\u001B[38;5;28;43mtype\u001B[39;49m\u001B[43m(\u001B[49m\u001B[43merror\u001B[49m\u001B[43m)\u001B[49m\u001B[43m,\u001B[49m\u001B[43m \u001B[49m\u001B[43merror\u001B[49m\u001B[43m,\u001B[49m\u001B[43m \u001B[49m\u001B[43m_stacktrace\u001B[49m\u001B[43m)\u001B[49m\n\u001B[32m    475\u001B[39m \u001B[38;5;28;01melif\u001B[39;00m read \u001B[38;5;129;01mis\u001B[39;00m \u001B[38;5;129;01mnot\u001B[39;00m \u001B[38;5;28;01mNone\u001B[39;00m:\n",
      "\u001B[36mFile \u001B[39m\u001B[32m~\\anaconda3\\envs\\RAG\\Lib\\site-packages\\urllib3\\util\\util.py:39\u001B[39m, in \u001B[36mreraise\u001B[39m\u001B[34m(tp, value, tb)\u001B[39m\n\u001B[32m     38\u001B[39m         \u001B[38;5;28;01mraise\u001B[39;00m value.with_traceback(tb)\n\u001B[32m---> \u001B[39m\u001B[32m39\u001B[39m     \u001B[38;5;28;01mraise\u001B[39;00m value\n\u001B[32m     40\u001B[39m \u001B[38;5;28;01mfinally\u001B[39;00m:\n",
      "\u001B[36mFile \u001B[39m\u001B[32m~\\anaconda3\\envs\\RAG\\Lib\\site-packages\\urllib3\\connectionpool.py:789\u001B[39m, in \u001B[36mHTTPConnectionPool.urlopen\u001B[39m\u001B[34m(self, method, url, body, headers, retries, redirect, assert_same_host, timeout, pool_timeout, release_conn, chunked, body_pos, preload_content, decode_content, **response_kw)\u001B[39m\n\u001B[32m    788\u001B[39m \u001B[38;5;66;03m# Make the request on the HTTPConnection object\u001B[39;00m\n\u001B[32m--> \u001B[39m\u001B[32m789\u001B[39m response = \u001B[38;5;28;43mself\u001B[39;49m\u001B[43m.\u001B[49m\u001B[43m_make_request\u001B[49m\u001B[43m(\u001B[49m\n\u001B[32m    790\u001B[39m \u001B[43m    \u001B[49m\u001B[43mconn\u001B[49m\u001B[43m,\u001B[49m\n\u001B[32m    791\u001B[39m \u001B[43m    \u001B[49m\u001B[43mmethod\u001B[49m\u001B[43m,\u001B[49m\n\u001B[32m    792\u001B[39m \u001B[43m    \u001B[49m\u001B[43murl\u001B[49m\u001B[43m,\u001B[49m\n\u001B[32m    793\u001B[39m \u001B[43m    \u001B[49m\u001B[43mtimeout\u001B[49m\u001B[43m=\u001B[49m\u001B[43mtimeout_obj\u001B[49m\u001B[43m,\u001B[49m\n\u001B[32m    794\u001B[39m \u001B[43m    \u001B[49m\u001B[43mbody\u001B[49m\u001B[43m=\u001B[49m\u001B[43mbody\u001B[49m\u001B[43m,\u001B[49m\n\u001B[32m    795\u001B[39m \u001B[43m    \u001B[49m\u001B[43mheaders\u001B[49m\u001B[43m=\u001B[49m\u001B[43mheaders\u001B[49m\u001B[43m,\u001B[49m\n\u001B[32m    796\u001B[39m \u001B[43m    \u001B[49m\u001B[43mchunked\u001B[49m\u001B[43m=\u001B[49m\u001B[43mchunked\u001B[49m\u001B[43m,\u001B[49m\n\u001B[32m    797\u001B[39m \u001B[43m    \u001B[49m\u001B[43mretries\u001B[49m\u001B[43m=\u001B[49m\u001B[43mretries\u001B[49m\u001B[43m,\u001B[49m\n\u001B[32m    798\u001B[39m \u001B[43m    \u001B[49m\u001B[43mresponse_conn\u001B[49m\u001B[43m=\u001B[49m\u001B[43mresponse_conn\u001B[49m\u001B[43m,\u001B[49m\n\u001B[32m    799\u001B[39m \u001B[43m    \u001B[49m\u001B[43mpreload_content\u001B[49m\u001B[43m=\u001B[49m\u001B[43mpreload_content\u001B[49m\u001B[43m,\u001B[49m\n\u001B[32m    800\u001B[39m \u001B[43m    \u001B[49m\u001B[43mdecode_content\u001B[49m\u001B[43m=\u001B[49m\u001B[43mdecode_content\u001B[49m\u001B[43m,\u001B[49m\n\u001B[32m    801\u001B[39m \u001B[43m    \u001B[49m\u001B[43m*\u001B[49m\u001B[43m*\u001B[49m\u001B[43mresponse_kw\u001B[49m\u001B[43m,\u001B[49m\n\u001B[32m    802\u001B[39m \u001B[43m\u001B[49m\u001B[43m)\u001B[49m\n\u001B[32m    804\u001B[39m \u001B[38;5;66;03m# Everything went great!\u001B[39;00m\n",
      "\u001B[36mFile \u001B[39m\u001B[32m~\\anaconda3\\envs\\RAG\\Lib\\site-packages\\urllib3\\connectionpool.py:538\u001B[39m, in \u001B[36mHTTPConnectionPool._make_request\u001B[39m\u001B[34m(self, conn, method, url, body, headers, retries, timeout, chunked, response_conn, preload_content, decode_content, enforce_content_length)\u001B[39m\n\u001B[32m    537\u001B[39m \u001B[38;5;28;01mexcept\u001B[39;00m (BaseSSLError, \u001B[38;5;167;01mOSError\u001B[39;00m) \u001B[38;5;28;01mas\u001B[39;00m e:\n\u001B[32m--> \u001B[39m\u001B[32m538\u001B[39m     \u001B[38;5;28;43mself\u001B[39;49m\u001B[43m.\u001B[49m\u001B[43m_raise_timeout\u001B[49m\u001B[43m(\u001B[49m\u001B[43merr\u001B[49m\u001B[43m=\u001B[49m\u001B[43me\u001B[49m\u001B[43m,\u001B[49m\u001B[43m \u001B[49m\u001B[43murl\u001B[49m\u001B[43m=\u001B[49m\u001B[43murl\u001B[49m\u001B[43m,\u001B[49m\u001B[43m \u001B[49m\u001B[43mtimeout_value\u001B[49m\u001B[43m=\u001B[49m\u001B[43mread_timeout\u001B[49m\u001B[43m)\u001B[49m\n\u001B[32m    539\u001B[39m     \u001B[38;5;28;01mraise\u001B[39;00m\n",
      "\u001B[36mFile \u001B[39m\u001B[32m~\\anaconda3\\envs\\RAG\\Lib\\site-packages\\urllib3\\connectionpool.py:369\u001B[39m, in \u001B[36mHTTPConnectionPool._raise_timeout\u001B[39m\u001B[34m(self, err, url, timeout_value)\u001B[39m\n\u001B[32m    368\u001B[39m \u001B[38;5;28;01mif\u001B[39;00m \u001B[38;5;28misinstance\u001B[39m(err, SocketTimeout):\n\u001B[32m--> \u001B[39m\u001B[32m369\u001B[39m     \u001B[38;5;28;01mraise\u001B[39;00m ReadTimeoutError(\n\u001B[32m    370\u001B[39m         \u001B[38;5;28mself\u001B[39m, url, \u001B[33mf\u001B[39m\u001B[33m\"\u001B[39m\u001B[33mRead timed out. (read timeout=\u001B[39m\u001B[38;5;132;01m{\u001B[39;00mtimeout_value\u001B[38;5;132;01m}\u001B[39;00m\u001B[33m)\u001B[39m\u001B[33m\"\u001B[39m\n\u001B[32m    371\u001B[39m     ) \u001B[38;5;28;01mfrom\u001B[39;00m\u001B[38;5;250m \u001B[39m\u001B[34;01merr\u001B[39;00m\n\u001B[32m    373\u001B[39m \u001B[38;5;66;03m# See the above comment about EAGAIN in Python 3.\u001B[39;00m\n",
      "\u001B[31mReadTimeoutError\u001B[39m: HTTPSConnectionPool(host='mermaid.ink', port=443): Read timed out. (read timeout=10)",
      "\nDuring handling of the above exception, another exception occurred:\n",
      "\u001B[31mReadTimeout\u001B[39m                               Traceback (most recent call last)",
      "\u001B[36mFile \u001B[39m\u001B[32m~\\anaconda3\\envs\\RAG\\Lib\\site-packages\\IPython\\core\\formatters.py:1036\u001B[39m, in \u001B[36mMimeBundleFormatter.__call__\u001B[39m\u001B[34m(self, obj, include, exclude)\u001B[39m\n\u001B[32m   1033\u001B[39m     method = get_real_method(obj, \u001B[38;5;28mself\u001B[39m.print_method)\n\u001B[32m   1035\u001B[39m     \u001B[38;5;28;01mif\u001B[39;00m method \u001B[38;5;129;01mis\u001B[39;00m \u001B[38;5;129;01mnot\u001B[39;00m \u001B[38;5;28;01mNone\u001B[39;00m:\n\u001B[32m-> \u001B[39m\u001B[32m1036\u001B[39m         \u001B[38;5;28;01mreturn\u001B[39;00m \u001B[43mmethod\u001B[49m\u001B[43m(\u001B[49m\u001B[43minclude\u001B[49m\u001B[43m=\u001B[49m\u001B[43minclude\u001B[49m\u001B[43m,\u001B[49m\u001B[43m \u001B[49m\u001B[43mexclude\u001B[49m\u001B[43m=\u001B[49m\u001B[43mexclude\u001B[49m\u001B[43m)\u001B[49m\n\u001B[32m   1037\u001B[39m     \u001B[38;5;28;01mreturn\u001B[39;00m \u001B[38;5;28;01mNone\u001B[39;00m\n\u001B[32m   1038\u001B[39m \u001B[38;5;28;01melse\u001B[39;00m:\n",
      "\u001B[36mFile \u001B[39m\u001B[32m~\\anaconda3\\envs\\RAG\\Lib\\site-packages\\langgraph\\graph\\graph.py:641\u001B[39m, in \u001B[36mCompiledGraph._repr_mimebundle_\u001B[39m\u001B[34m(self, **kwargs)\u001B[39m\n\u001B[32m    637\u001B[39m \u001B[38;5;28;01mdef\u001B[39;00m\u001B[38;5;250m \u001B[39m\u001B[34m_repr_mimebundle_\u001B[39m(\u001B[38;5;28mself\u001B[39m, **kwargs: Any) -> \u001B[38;5;28mdict\u001B[39m[\u001B[38;5;28mstr\u001B[39m, Any]:\n\u001B[32m    638\u001B[39m \u001B[38;5;250m    \u001B[39m\u001B[33;03m\"\"\"Mime bundle used by Jupyter to display the graph\"\"\"\u001B[39;00m\n\u001B[32m    639\u001B[39m     \u001B[38;5;28;01mreturn\u001B[39;00m {\n\u001B[32m    640\u001B[39m         \u001B[33m\"\u001B[39m\u001B[33mtext/plain\u001B[39m\u001B[33m\"\u001B[39m: \u001B[38;5;28mrepr\u001B[39m(\u001B[38;5;28mself\u001B[39m),\n\u001B[32m--> \u001B[39m\u001B[32m641\u001B[39m         \u001B[33m\"\u001B[39m\u001B[33mimage/png\u001B[39m\u001B[33m\"\u001B[39m: \u001B[38;5;28;43mself\u001B[39;49m\u001B[43m.\u001B[49m\u001B[43mget_graph\u001B[49m\u001B[43m(\u001B[49m\u001B[43m)\u001B[49m\u001B[43m.\u001B[49m\u001B[43mdraw_mermaid_png\u001B[49m\u001B[43m(\u001B[49m\u001B[43m)\u001B[49m,\n\u001B[32m    642\u001B[39m     }\n",
      "\u001B[36mFile \u001B[39m\u001B[32m~\\anaconda3\\envs\\RAG\\Lib\\site-packages\\langchain_core\\runnables\\graph.py:630\u001B[39m, in \u001B[36mGraph.draw_mermaid_png\u001B[39m\u001B[34m(self, curve_style, node_colors, wrap_label_n_words, output_file_path, draw_method, background_color, padding)\u001B[39m\n\u001B[32m    623\u001B[39m \u001B[38;5;28;01mfrom\u001B[39;00m\u001B[38;5;250m \u001B[39m\u001B[34;01mlangchain_core\u001B[39;00m\u001B[34;01m.\u001B[39;00m\u001B[34;01mrunnables\u001B[39;00m\u001B[34;01m.\u001B[39;00m\u001B[34;01mgraph_mermaid\u001B[39;00m\u001B[38;5;250m \u001B[39m\u001B[38;5;28;01mimport\u001B[39;00m draw_mermaid_png\n\u001B[32m    625\u001B[39m mermaid_syntax = \u001B[38;5;28mself\u001B[39m.draw_mermaid(\n\u001B[32m    626\u001B[39m     curve_style=curve_style,\n\u001B[32m    627\u001B[39m     node_colors=node_colors,\n\u001B[32m    628\u001B[39m     wrap_label_n_words=wrap_label_n_words,\n\u001B[32m    629\u001B[39m )\n\u001B[32m--> \u001B[39m\u001B[32m630\u001B[39m \u001B[38;5;28;01mreturn\u001B[39;00m \u001B[43mdraw_mermaid_png\u001B[49m\u001B[43m(\u001B[49m\n\u001B[32m    631\u001B[39m \u001B[43m    \u001B[49m\u001B[43mmermaid_syntax\u001B[49m\u001B[43m=\u001B[49m\u001B[43mmermaid_syntax\u001B[49m\u001B[43m,\u001B[49m\n\u001B[32m    632\u001B[39m \u001B[43m    \u001B[49m\u001B[43moutput_file_path\u001B[49m\u001B[43m=\u001B[49m\u001B[43moutput_file_path\u001B[49m\u001B[43m,\u001B[49m\n\u001B[32m    633\u001B[39m \u001B[43m    \u001B[49m\u001B[43mdraw_method\u001B[49m\u001B[43m=\u001B[49m\u001B[43mdraw_method\u001B[49m\u001B[43m,\u001B[49m\n\u001B[32m    634\u001B[39m \u001B[43m    \u001B[49m\u001B[43mbackground_color\u001B[49m\u001B[43m=\u001B[49m\u001B[43mbackground_color\u001B[49m\u001B[43m,\u001B[49m\n\u001B[32m    635\u001B[39m \u001B[43m    \u001B[49m\u001B[43mpadding\u001B[49m\u001B[43m=\u001B[49m\u001B[43mpadding\u001B[49m\u001B[43m,\u001B[49m\n\u001B[32m    636\u001B[39m \u001B[43m\u001B[49m\u001B[43m)\u001B[49m\n",
      "\u001B[36mFile \u001B[39m\u001B[32m~\\anaconda3\\envs\\RAG\\Lib\\site-packages\\langchain_core\\runnables\\graph_mermaid.py:214\u001B[39m, in \u001B[36mdraw_mermaid_png\u001B[39m\u001B[34m(mermaid_syntax, output_file_path, draw_method, background_color, padding)\u001B[39m\n\u001B[32m    208\u001B[39m     img_bytes = asyncio.run(\n\u001B[32m    209\u001B[39m         _render_mermaid_using_pyppeteer(\n\u001B[32m    210\u001B[39m             mermaid_syntax, output_file_path, background_color, padding\n\u001B[32m    211\u001B[39m         )\n\u001B[32m    212\u001B[39m     )\n\u001B[32m    213\u001B[39m \u001B[38;5;28;01melif\u001B[39;00m draw_method == MermaidDrawMethod.API:\n\u001B[32m--> \u001B[39m\u001B[32m214\u001B[39m     img_bytes = \u001B[43m_render_mermaid_using_api\u001B[49m\u001B[43m(\u001B[49m\n\u001B[32m    215\u001B[39m \u001B[43m        \u001B[49m\u001B[43mmermaid_syntax\u001B[49m\u001B[43m,\u001B[49m\u001B[43m \u001B[49m\u001B[43moutput_file_path\u001B[49m\u001B[43m,\u001B[49m\u001B[43m \u001B[49m\u001B[43mbackground_color\u001B[49m\n\u001B[32m    216\u001B[39m \u001B[43m    \u001B[49m\u001B[43m)\u001B[49m\n\u001B[32m    217\u001B[39m \u001B[38;5;28;01melse\u001B[39;00m:\n\u001B[32m    218\u001B[39m     supported_methods = \u001B[33m\"\u001B[39m\u001B[33m, \u001B[39m\u001B[33m\"\u001B[39m.join([m.value \u001B[38;5;28;01mfor\u001B[39;00m m \u001B[38;5;129;01min\u001B[39;00m MermaidDrawMethod])\n",
      "\u001B[36mFile \u001B[39m\u001B[32m~\\anaconda3\\envs\\RAG\\Lib\\site-packages\\langchain_core\\runnables\\graph_mermaid.py:336\u001B[39m, in \u001B[36m_render_mermaid_using_api\u001B[39m\u001B[34m(mermaid_syntax, output_file_path, background_color, file_type)\u001B[39m\n\u001B[32m    330\u001B[39m         background_color = \u001B[33mf\u001B[39m\u001B[33m\"\u001B[39m\u001B[33m!\u001B[39m\u001B[38;5;132;01m{\u001B[39;00mbackground_color\u001B[38;5;132;01m}\u001B[39;00m\u001B[33m\"\u001B[39m\n\u001B[32m    332\u001B[39m image_url = (\n\u001B[32m    333\u001B[39m     \u001B[33mf\u001B[39m\u001B[33m\"\u001B[39m\u001B[33mhttps://mermaid.ink/img/\u001B[39m\u001B[38;5;132;01m{\u001B[39;00mmermaid_syntax_encoded\u001B[38;5;132;01m}\u001B[39;00m\u001B[33m\"\u001B[39m\n\u001B[32m    334\u001B[39m     \u001B[33mf\u001B[39m\u001B[33m\"\u001B[39m\u001B[33m?type=\u001B[39m\u001B[38;5;132;01m{\u001B[39;00mfile_type\u001B[38;5;132;01m}\u001B[39;00m\u001B[33m&bgColor=\u001B[39m\u001B[38;5;132;01m{\u001B[39;00mbackground_color\u001B[38;5;132;01m}\u001B[39;00m\u001B[33m\"\u001B[39m\n\u001B[32m    335\u001B[39m )\n\u001B[32m--> \u001B[39m\u001B[32m336\u001B[39m response = \u001B[43mrequests\u001B[49m\u001B[43m.\u001B[49m\u001B[43mget\u001B[49m\u001B[43m(\u001B[49m\u001B[43mimage_url\u001B[49m\u001B[43m,\u001B[49m\u001B[43m \u001B[49m\u001B[43mtimeout\u001B[49m\u001B[43m=\u001B[49m\u001B[32;43m10\u001B[39;49m\u001B[43m)\u001B[49m\n\u001B[32m    337\u001B[39m \u001B[38;5;28;01mif\u001B[39;00m response.status_code == \u001B[32m200\u001B[39m:\n\u001B[32m    338\u001B[39m     img_bytes = response.content\n",
      "\u001B[36mFile \u001B[39m\u001B[32m~\\anaconda3\\envs\\RAG\\Lib\\site-packages\\requests\\api.py:73\u001B[39m, in \u001B[36mget\u001B[39m\u001B[34m(url, params, **kwargs)\u001B[39m\n\u001B[32m     62\u001B[39m \u001B[38;5;28;01mdef\u001B[39;00m\u001B[38;5;250m \u001B[39m\u001B[34mget\u001B[39m(url, params=\u001B[38;5;28;01mNone\u001B[39;00m, **kwargs):\n\u001B[32m     63\u001B[39m \u001B[38;5;250m    \u001B[39m\u001B[33mr\u001B[39m\u001B[33;03m\"\"\"Sends a GET request.\u001B[39;00m\n\u001B[32m     64\u001B[39m \n\u001B[32m     65\u001B[39m \u001B[33;03m    :param url: URL for the new :class:`Request` object.\u001B[39;00m\n\u001B[32m   (...)\u001B[39m\u001B[32m     70\u001B[39m \u001B[33;03m    :rtype: requests.Response\u001B[39;00m\n\u001B[32m     71\u001B[39m \u001B[33;03m    \"\"\"\u001B[39;00m\n\u001B[32m---> \u001B[39m\u001B[32m73\u001B[39m     \u001B[38;5;28;01mreturn\u001B[39;00m \u001B[43mrequest\u001B[49m\u001B[43m(\u001B[49m\u001B[33;43m\"\u001B[39;49m\u001B[33;43mget\u001B[39;49m\u001B[33;43m\"\u001B[39;49m\u001B[43m,\u001B[49m\u001B[43m \u001B[49m\u001B[43murl\u001B[49m\u001B[43m,\u001B[49m\u001B[43m \u001B[49m\u001B[43mparams\u001B[49m\u001B[43m=\u001B[49m\u001B[43mparams\u001B[49m\u001B[43m,\u001B[49m\u001B[43m \u001B[49m\u001B[43m*\u001B[49m\u001B[43m*\u001B[49m\u001B[43mkwargs\u001B[49m\u001B[43m)\u001B[49m\n",
      "\u001B[36mFile \u001B[39m\u001B[32m~\\anaconda3\\envs\\RAG\\Lib\\site-packages\\requests\\api.py:59\u001B[39m, in \u001B[36mrequest\u001B[39m\u001B[34m(method, url, **kwargs)\u001B[39m\n\u001B[32m     55\u001B[39m \u001B[38;5;66;03m# By using the 'with' statement we are sure the session is closed, thus we\u001B[39;00m\n\u001B[32m     56\u001B[39m \u001B[38;5;66;03m# avoid leaving sockets open which can trigger a ResourceWarning in some\u001B[39;00m\n\u001B[32m     57\u001B[39m \u001B[38;5;66;03m# cases, and look like a memory leak in others.\u001B[39;00m\n\u001B[32m     58\u001B[39m \u001B[38;5;28;01mwith\u001B[39;00m sessions.Session() \u001B[38;5;28;01mas\u001B[39;00m session:\n\u001B[32m---> \u001B[39m\u001B[32m59\u001B[39m     \u001B[38;5;28;01mreturn\u001B[39;00m \u001B[43msession\u001B[49m\u001B[43m.\u001B[49m\u001B[43mrequest\u001B[49m\u001B[43m(\u001B[49m\u001B[43mmethod\u001B[49m\u001B[43m=\u001B[49m\u001B[43mmethod\u001B[49m\u001B[43m,\u001B[49m\u001B[43m \u001B[49m\u001B[43murl\u001B[49m\u001B[43m=\u001B[49m\u001B[43murl\u001B[49m\u001B[43m,\u001B[49m\u001B[43m \u001B[49m\u001B[43m*\u001B[49m\u001B[43m*\u001B[49m\u001B[43mkwargs\u001B[49m\u001B[43m)\u001B[49m\n",
      "\u001B[36mFile \u001B[39m\u001B[32m~\\anaconda3\\envs\\RAG\\Lib\\site-packages\\requests\\sessions.py:589\u001B[39m, in \u001B[36mSession.request\u001B[39m\u001B[34m(self, method, url, params, data, headers, cookies, files, auth, timeout, allow_redirects, proxies, hooks, stream, verify, cert, json)\u001B[39m\n\u001B[32m    584\u001B[39m send_kwargs = {\n\u001B[32m    585\u001B[39m     \u001B[33m\"\u001B[39m\u001B[33mtimeout\u001B[39m\u001B[33m\"\u001B[39m: timeout,\n\u001B[32m    586\u001B[39m     \u001B[33m\"\u001B[39m\u001B[33mallow_redirects\u001B[39m\u001B[33m\"\u001B[39m: allow_redirects,\n\u001B[32m    587\u001B[39m }\n\u001B[32m    588\u001B[39m send_kwargs.update(settings)\n\u001B[32m--> \u001B[39m\u001B[32m589\u001B[39m resp = \u001B[38;5;28;43mself\u001B[39;49m\u001B[43m.\u001B[49m\u001B[43msend\u001B[49m\u001B[43m(\u001B[49m\u001B[43mprep\u001B[49m\u001B[43m,\u001B[49m\u001B[43m \u001B[49m\u001B[43m*\u001B[49m\u001B[43m*\u001B[49m\u001B[43msend_kwargs\u001B[49m\u001B[43m)\u001B[49m\n\u001B[32m    591\u001B[39m \u001B[38;5;28;01mreturn\u001B[39;00m resp\n",
      "\u001B[36mFile \u001B[39m\u001B[32m~\\anaconda3\\envs\\RAG\\Lib\\site-packages\\requests\\sessions.py:703\u001B[39m, in \u001B[36mSession.send\u001B[39m\u001B[34m(self, request, **kwargs)\u001B[39m\n\u001B[32m    700\u001B[39m start = preferred_clock()\n\u001B[32m    702\u001B[39m \u001B[38;5;66;03m# Send the request\u001B[39;00m\n\u001B[32m--> \u001B[39m\u001B[32m703\u001B[39m r = \u001B[43madapter\u001B[49m\u001B[43m.\u001B[49m\u001B[43msend\u001B[49m\u001B[43m(\u001B[49m\u001B[43mrequest\u001B[49m\u001B[43m,\u001B[49m\u001B[43m \u001B[49m\u001B[43m*\u001B[49m\u001B[43m*\u001B[49m\u001B[43mkwargs\u001B[49m\u001B[43m)\u001B[49m\n\u001B[32m    705\u001B[39m \u001B[38;5;66;03m# Total elapsed time of the request (approximately)\u001B[39;00m\n\u001B[32m    706\u001B[39m elapsed = preferred_clock() - start\n",
      "\u001B[36mFile \u001B[39m\u001B[32m~\\anaconda3\\envs\\RAG\\Lib\\site-packages\\requests\\adapters.py:713\u001B[39m, in \u001B[36mHTTPAdapter.send\u001B[39m\u001B[34m(self, request, stream, timeout, verify, cert, proxies)\u001B[39m\n\u001B[32m    711\u001B[39m     \u001B[38;5;28;01mraise\u001B[39;00m SSLError(e, request=request)\n\u001B[32m    712\u001B[39m \u001B[38;5;28;01melif\u001B[39;00m \u001B[38;5;28misinstance\u001B[39m(e, ReadTimeoutError):\n\u001B[32m--> \u001B[39m\u001B[32m713\u001B[39m     \u001B[38;5;28;01mraise\u001B[39;00m ReadTimeout(e, request=request)\n\u001B[32m    714\u001B[39m \u001B[38;5;28;01melif\u001B[39;00m \u001B[38;5;28misinstance\u001B[39m(e, _InvalidHeader):\n\u001B[32m    715\u001B[39m     \u001B[38;5;28;01mraise\u001B[39;00m InvalidHeader(e, request=request)\n",
      "\u001B[31mReadTimeout\u001B[39m: HTTPSConnectionPool(host='mermaid.ink', port=443): Read timed out. (read timeout=10)"
     ]
    },
    {
     "data": {
      "text/plain": [
       "<langgraph.graph.state.CompiledStateGraph at 0x22bbf4bf2f0>"
      ]
     },
     "execution_count": 21,
     "metadata": {},
     "output_type": "execute_result"
    }
   ],
   "execution_count": 21
  },
  {
   "metadata": {},
   "cell_type": "code",
   "outputs": [],
   "execution_count": null,
   "source": "",
   "id": "50837b7acbf7bc90"
  }
 ],
 "metadata": {
  "kernelspec": {
   "display_name": "python_rag",
   "language": "python",
   "name": "rag"
  },
  "language_info": {
   "codemirror_mode": {
    "name": "ipython",
    "version": 2
   },
   "file_extension": ".py",
   "mimetype": "text/x-python",
   "name": "python",
   "nbconvert_exporter": "python",
   "pygments_lexer": "ipython2",
   "version": "2.7.6"
  }
 },
 "nbformat": 4,
 "nbformat_minor": 5
}
